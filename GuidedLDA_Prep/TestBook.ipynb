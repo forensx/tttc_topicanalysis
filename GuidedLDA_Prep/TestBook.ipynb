{
 "cells": [
  {
   "cell_type": "code",
   "execution_count": 26,
   "metadata": {},
   "outputs": [
    {
     "name": "stdout",
     "output_type": "stream",
     "text": [
      "Collecting matplotlib\n",
      "  Downloading https://files.pythonhosted.org/packages/44/fb/132de6a4b803d8ce909a89043b7d3f775f64e0a39398fc98c02e3e144b61/matplotlib-3.1.2-cp36-cp36m-win_amd64.whl (9.1MB)\n",
      "Collecting cycler>=0.10\n",
      "  Downloading https://files.pythonhosted.org/packages/f7/d2/e07d3ebb2bd7af696440ce7e754c59dd546ffe1bbe732c8ab68b9c834e61/cycler-0.10.0-py2.py3-none-any.whl\n",
      "Requirement already satisfied: python-dateutil>=2.1 in e:\\users\\cole\\anaconda3\\envs\\tttc_litanalysis\\lib\\site-packages (from matplotlib) (2.8.0)\n",
      "Requirement already satisfied: numpy>=1.11 in e:\\users\\cole\\anaconda3\\envs\\tttc_litanalysis\\lib\\site-packages (from matplotlib) (1.17.4)\n",
      "Requirement already satisfied: pyparsing!=2.0.4,!=2.1.2,!=2.1.6,>=2.0.1 in e:\\users\\cole\\anaconda3\\envs\\tttc_litanalysis\\lib\\site-packages (from matplotlib) (2.4.5)\n",
      "Collecting kiwisolver>=1.0.1\n",
      "  Downloading https://files.pythonhosted.org/packages/64/46/75ab48386cbd56065f5542360562be524ad599911455b6d95520cb118613/kiwisolver-1.1.0-cp36-none-win_amd64.whl (57kB)\n",
      "Requirement already satisfied: six in e:\\users\\cole\\anaconda3\\envs\\tttc_litanalysis\\lib\\site-packages (from cycler>=0.10->matplotlib) (1.13.0)\n",
      "Requirement already satisfied: setuptools in e:\\users\\cole\\anaconda3\\envs\\tttc_litanalysis\\lib\\site-packages (from kiwisolver>=1.0.1->matplotlib) (42.0.1.post20191125)\n",
      "Installing collected packages: cycler, kiwisolver, matplotlib\n",
      "Successfully installed cycler-0.10.0 kiwisolver-1.1.0 matplotlib-3.1.2\n"
     ]
    }
   ],
   "source": [
    "!pip install matplotlib"
   ]
  },
  {
   "cell_type": "code",
   "execution_count": 27,
   "metadata": {},
   "outputs": [],
   "source": [
    "import re\n",
    "import pandas as pd\n",
    "from collections import defaultdict\n",
    "import operator\n",
    "from pprint import pprint\n",
    "\n",
    "# Set Pandas to display all rows of dataframes\n",
    "pd.set_option('display.max_rows', 500)\n",
    "\n",
    "# Gensim\n",
    "import gensim\n",
    "import gensim.corpora as corpora\n",
    "from gensim.utils import simple_preprocess\n",
    "from gensim.models import CoherenceModel\n",
    "\n",
    "# spacy for lemmatization\n",
    "import spacy\n",
    "\n",
    "# Plotting tools\n",
    "import pyLDAvis\n",
    "import pyLDAvis.gensim  # don't skip this\n",
    "import matplotlib.pyplot as plt\n",
    "%matplotlib inline\n",
    "\n",
    "# Enable logging for gensim - optional\n",
    "import logging\n",
    "logging.basicConfig(format='%(asctime)s : %(levelname)s : %(message)s', level=logging.ERROR)\n",
    "\n",
    "import warnings\n",
    "warnings.filterwarnings(\"ignore\", category=DeprecationWarning)"
   ]
  },
  {
   "cell_type": "code",
   "execution_count": 31,
   "metadata": {},
   "outputs": [
    {
     "name": "stdout",
     "output_type": "stream",
     "text": [
      "['the', 'things', 'they', 'carried', 'first', 'lieutenant_jimmy_cross', 'carried', 'letters', 'from', 'girl', 'named', 'martha', 'junior', 'at', 'mount_sebastian', 'college', 'in', 'new', 'jersey']\n"
     ]
    }
   ],
   "source": [
    "# Build the bigram and trigram models\n",
    "bigram = gensim.models.Phrases(data_words, min_count=5, threshold=100) # higher threshold fewer phrases.\n",
    "trigram = gensim.models.Phrases(bigram[data_words], threshold=100)  \n",
    "\n",
    "# Faster way to get a sentence clubbed as a trigram/bigram\n",
    "bigram_mod = gensim.models.phrases.Phraser(bigram)\n",
    "trigram_mod = gensim.models.phrases.Phraser(trigram)\n",
    "\n",
    "# See trigram example\n",
    "print(trigram_mod[bigram_mod[data_words[0]]])"
   ]
  },
  {
   "cell_type": "code",
   "execution_count": 16,
   "metadata": {},
   "outputs": [
    {
     "name": "stderr",
     "output_type": "stream",
     "text": [
      "[nltk_data] Downloading package punkt to\n",
      "[nltk_data]     C:\\Users\\Cole\\AppData\\Roaming\\nltk_data...\n",
      "[nltk_data]   Package punkt is already up-to-date!\n",
      "[nltk_data] Downloading package stopwords to\n",
      "[nltk_data]     C:\\Users\\Cole\\AppData\\Roaming\\nltk_data...\n",
      "[nltk_data]   Unzipping corpora\\stopwords.zip.\n"
     ]
    },
    {
     "data": {
      "text/plain": [
       "True"
      ]
     },
     "execution_count": 16,
     "metadata": {},
     "output_type": "execute_result"
    }
   ],
   "source": [
    "from nltk import sent_tokenize\n",
    "nltk.download('punkt')\n",
    "nltk.download('stopwords')"
   ]
  },
  {
   "cell_type": "code",
   "execution_count": 8,
   "metadata": {},
   "outputs": [],
   "source": [
    "text = 'E:\\\\Main\\\\Programming\\\\tttc_topicanalysis\\\\DATA\\\\tttc_scrape.txt'\n",
    "data = \"\"\n",
    "with open(text, \"r\") as f:\n",
    "    data = f.read().replace('\\n', '')"
   ]
  },
  {
   "cell_type": "code",
   "execution_count": 18,
   "metadata": {},
   "outputs": [],
   "source": [
    "data = sent_tokenize(data)"
   ]
  },
  {
   "cell_type": "code",
   "execution_count": 17,
   "metadata": {},
   "outputs": [],
   "source": [
    "from nltk.corpus import stopwords\n",
    "stop_words = stopwords.words('english')"
   ]
  },
  {
   "cell_type": "code",
   "execution_count": 28,
   "metadata": {},
   "outputs": [
    {
     "name": "stdout",
     "output_type": "stream",
     "text": [
      "[['the', 'things', 'they', 'carried', 'first', 'lieutenant', 'jimmy', 'cross', 'carried', 'letters', 'from', 'girl', 'named', 'martha', 'junior', 'at', 'mount', 'sebastian', 'college', 'in', 'new', 'jersey']]\n"
     ]
    }
   ],
   "source": [
    "def sent_to_words(sentences):\n",
    "    for sentence in sentences:\n",
    "        yield(gensim.utils.simple_preprocess(str(sentence), deacc=True))  # deacc=True removes punctuations\n",
    "\n",
    "data_words = list(sent_to_words(data))\n",
    "\n",
    "print(data_words[:1])"
   ]
  },
  {
   "cell_type": "code",
   "execution_count": 32,
   "metadata": {},
   "outputs": [],
   "source": [
    "# Define functions for stopwords, bigrams, trigrams and lemmatization\n",
    "def remove_stopwords(texts):\n",
    "    return [[word for word in simple_preprocess(str(doc)) if word not in stop_words] for doc in texts]\n",
    "\n",
    "def make_bigrams(texts):\n",
    "    return [bigram_mod[doc] for doc in texts]\n",
    "\n",
    "def make_trigrams(texts):\n",
    "    return [trigram_mod[bigram_mod[doc]] for doc in texts]\n",
    "\n",
    "def lemmatization(texts, allowed_postags=['NOUN', 'ADJ', 'VERB', 'ADV']):\n",
    "    \"\"\"https://spacy.io/api/annotation\"\"\"\n",
    "    texts_out = []\n",
    "    for sent in texts:\n",
    "        doc = nlp(\" \".join(sent)) \n",
    "        texts_out.append([token.lemma_ for token in doc])# if token.pos_ in allowed_postags])\n",
    "    return texts_out"
   ]
  },
  {
   "cell_type": "code",
   "execution_count": 37,
   "metadata": {},
   "outputs": [
    {
     "name": "stdout",
     "output_type": "stream",
     "text": [
      "[['thing', 'carry', 'first', 'lieutenant_jimmy', 'cross', 'carry', 'letter', 'girl', 'name', 'martha', 'junior', 'mount_sebastian', 'college', 'new', 'jersey']]\n"
     ]
    }
   ],
   "source": [
    "# Remove Stop Words\n",
    "data_words_nostops = remove_stopwords(data_words)\n",
    "\n",
    "# Form Bigrams\n",
    "data_words_bigrams = make_bigrams(data_words_nostops)\n",
    "\n",
    "# Initialize spacy 'en' model, keeping only tagger component (for efficiency)\n",
    "# python3 -m spacy download en\n",
    "nlp = spacy.load('en', disable=['parser', 'ner'])\n",
    "\n",
    "# Do lemmatization keeping only noun, adj, vb, adv\n",
    "data_lemmatized = lemmatization(data_words_bigrams, allowed_postags=['NOUN', 'ADJ', 'VERB', 'ADV'])\n",
    "\n",
    "print(data_lemmatized[:1])"
   ]
  },
  {
   "cell_type": "code",
   "execution_count": 38,
   "metadata": {},
   "outputs": [
    {
     "name": "stdout",
     "output_type": "stream",
     "text": [
      "['necessity', 'sop', 'carry', 'steel', 'helmet', 'weighed_pound', 'include', 'lin', 'camouflage', 'cover']\n"
     ]
    }
   ],
   "source": [
    "print(data_lemmatized[19])"
   ]
  },
  {
   "cell_type": "code",
   "execution_count": 39,
   "metadata": {},
   "outputs": [
    {
     "name": "stdout",
     "output_type": "stream",
     "text": [
      "[[(0, 2), (1, 1), (2, 1), (3, 1), (4, 1), (5, 1), (6, 1), (7, 1), (8, 1), (9, 1), (10, 1), (11, 1), (12, 1), (13, 1)]]\n"
     ]
    }
   ],
   "source": [
    "# Create Dictionary\n",
    "id2word = corpora.Dictionary(data_lemmatized)\n",
    "\n",
    "# Create Corpus\n",
    "texts = data_lemmatized\n",
    "\n",
    "# Term Document Frequency\n",
    "corpus = [id2word.doc2bow(text) for text in texts]\n",
    "\n",
    "# View\n",
    "print(corpus[:1])"
   ]
  },
  {
   "cell_type": "code",
   "execution_count": 40,
   "metadata": {},
   "outputs": [
    {
     "data": {
      "text/plain": [
       "[[('carry', 2),\n",
       "  ('college', 1),\n",
       "  ('cross', 1),\n",
       "  ('first', 1),\n",
       "  ('girl', 1),\n",
       "  ('jersey', 1),\n",
       "  ('junior', 1),\n",
       "  ('letter', 1),\n",
       "  ('lieutenant_jimmy', 1),\n",
       "  ('martha', 1),\n",
       "  ('mount_sebastian', 1),\n",
       "  ('name', 1),\n",
       "  ('new', 1),\n",
       "  ('thing', 1)]]"
      ]
     },
     "execution_count": 40,
     "metadata": {},
     "output_type": "execute_result"
    }
   ],
   "source": [
    "# Human readable format of corpus (term-frequency)\n",
    "[[(id2word[id], freq) for id, freq in cp] for cp in corpus[:1]]"
   ]
  },
  {
   "cell_type": "code",
   "execution_count": 41,
   "metadata": {},
   "outputs": [],
   "source": [
    "# Build LDA model\n",
    "lda_model = gensim.models.ldamodel.LdaModel(corpus=corpus,\n",
    "                                           id2word=id2word,\n",
    "                                           num_topics=20, \n",
    "                                           random_state=100,\n",
    "                                           update_every=1,\n",
    "                                           chunksize=100,\n",
    "                                           passes=10,\n",
    "                                           alpha='auto',\n",
    "                                           per_word_topics=True)"
   ]
  },
  {
   "cell_type": "code",
   "execution_count": 50,
   "metadata": {},
   "outputs": [
    {
     "data": {
      "text/plain": [
       "<gensim.interfaces.TransformedCorpus at 0x1e5d2a09470>"
      ]
     },
     "execution_count": 50,
     "metadata": {},
     "output_type": "execute_result"
    }
   ],
   "source": [
    "# Print the Keyword in the 20 topics\n",
    "#print(lda_model.print_topics())\n",
    "doc_lda = lda_model[corpus]\n",
    "doc_lda"
   ]
  },
  {
   "cell_type": "code",
   "execution_count": 43,
   "metadata": {},
   "outputs": [
    {
     "name": "stdout",
     "output_type": "stream",
     "text": [
      "Perplexity:  -19.88565483535661\n",
      "Coherence Score:  0.40858035097498224\n"
     ]
    }
   ],
   "source": [
    "# Compute Perplexity\n",
    "print ('Perplexity: ', lda_model.log_perplexity(corpus))  # a measure of how good the model is. lower the better.\n",
    "\n",
    "# Compute Coherence Score\n",
    "coherence_model_lda = CoherenceModel(model=lda_model, texts=data_lemmatized, dictionary=id2word, coherence='c_v')\n",
    "coherence_lda = coherence_model_lda.get_coherence()\n",
    "print ('Coherence Score: ', coherence_lda)\n"
   ]
  },
  {
   "cell_type": "code",
   "execution_count": 44,
   "metadata": {},
   "outputs": [
    {
     "name": "stderr",
     "output_type": "stream",
     "text": [
      "e:\\users\\cole\\anaconda3\\envs\\tttc_litanalysis\\lib\\site-packages\\pyLDAvis\\_prepare.py:257: FutureWarning: Sorting because non-concatenation axis is not aligned. A future version\n",
      "of pandas will change to not sort by default.\n",
      "\n",
      "To accept the future behavior, pass 'sort=False'.\n",
      "\n",
      "To retain the current behavior and silence the warning, pass 'sort=True'.\n",
      "\n",
      "  return pd.concat([default_term_info] + list(topic_dfs))\n"
     ]
    },
    {
     "data": {
      "text/html": [
       "\n",
       "<link rel=\"stylesheet\" type=\"text/css\" href=\"https://cdn.rawgit.com/bmabey/pyLDAvis/files/ldavis.v1.0.0.css\">\n",
       "\n",
       "\n",
       "<div id=\"ldavis_el2282820864419958646936026616\"></div>\n",
       "<script type=\"text/javascript\">\n",
       "\n",
       "var ldavis_el2282820864419958646936026616_data = {\"mdsDat\": {\"x\": [-0.37666542574746553, -0.0781763698919442, -0.006482808849301975, -0.06401053636895918, -0.018534054246803926, 0.01807670258128918, -0.00042305121658913695, 0.01768397110151744, 0.03525220161612504, 0.03163299901621732, 0.04144942761707989, 0.03759457940983867, 0.03942744481052438, 0.03795680050193502, 0.03942368660475584, 0.04646597659292001, 0.048062628073081454, 0.05334734136402045, 0.04393166803423433, 0.05398681899752385], \"y\": [0.1323507907644843, -0.2964253559925893, -0.0039835274554784125, -0.17972526197684702, -0.018988868940147178, 0.01663566868733086, 0.0020422178203003886, 0.016158387674271336, 0.025549163500893837, 0.02369392207591741, 0.02788657305258067, 0.026483318847291243, 0.027043086834824398, 0.026510437723155072, 0.027163226724217063, 0.029425996588151156, 0.029643055613298202, 0.030149267373872652, 0.028523503063913526, 0.029864398020560116], \"topics\": [1, 2, 3, 4, 5, 6, 7, 8, 9, 10, 11, 12, 13, 14, 15, 16, 17, 18, 19, 20], \"cluster\": [1, 1, 1, 1, 1, 1, 1, 1, 1, 1, 1, 1, 1, 1, 1, 1, 1, 1, 1, 1], \"Freq\": [11.013778686523438, 8.405056953430176, 7.4540181159973145, 7.381108283996582, 7.2596588134765625, 6.564716339111328, 6.479302883148193, 5.118576526641846, 4.794857501983643, 4.10044527053833, 4.03687047958374, 3.9355404376983643, 3.89677357673645, 3.665322780609131, 3.5853796005249023, 3.2745401859283447, 3.2193069458007812, 2.5418477058410645, 1.754854440689087, 1.5180407762527466]}, \"tinfo\": {\"Category\": [\"Default\", \"Default\", \"Default\", \"Default\", \"Default\", \"Default\", \"Default\", \"Default\", \"Default\", \"Default\", \"Default\", \"Default\", \"Default\", \"Default\", \"Default\", \"Default\", \"Default\", \"Default\", \"Default\", \"Default\", \"Default\", \"Default\", \"Default\", \"Default\", \"Default\", \"Default\", \"Default\", \"Default\", \"Default\", \"Default\", \"Topic1\", \"Topic1\", \"Topic1\", \"Topic1\", \"Topic1\", \"Topic1\", \"Topic1\", \"Topic1\", \"Topic1\", \"Topic1\", \"Topic1\", \"Topic1\", \"Topic1\", \"Topic1\", \"Topic1\", \"Topic1\", \"Topic1\", \"Topic1\", \"Topic1\", \"Topic1\", \"Topic1\", \"Topic1\", \"Topic1\", \"Topic1\", \"Topic1\", \"Topic1\", \"Topic1\", \"Topic1\", \"Topic1\", \"Topic1\", \"Topic2\", \"Topic2\", \"Topic2\", \"Topic2\", \"Topic2\", \"Topic2\", \"Topic2\", \"Topic2\", \"Topic2\", \"Topic2\", \"Topic2\", \"Topic2\", \"Topic2\", \"Topic2\", \"Topic2\", \"Topic2\", \"Topic2\", \"Topic2\", \"Topic2\", \"Topic2\", \"Topic2\", \"Topic2\", \"Topic2\", \"Topic2\", \"Topic2\", \"Topic2\", \"Topic2\", \"Topic2\", \"Topic2\", \"Topic2\", \"Topic2\", \"Topic2\", \"Topic2\", \"Topic2\", \"Topic2\", \"Topic2\", \"Topic2\", \"Topic2\", \"Topic3\", \"Topic3\", \"Topic3\", \"Topic3\", \"Topic3\", \"Topic3\", \"Topic3\", \"Topic3\", \"Topic3\", \"Topic3\", \"Topic3\", \"Topic3\", \"Topic3\", \"Topic3\", \"Topic3\", \"Topic3\", \"Topic3\", \"Topic3\", \"Topic3\", \"Topic3\", \"Topic3\", \"Topic3\", \"Topic3\", \"Topic3\", \"Topic3\", \"Topic3\", \"Topic3\", \"Topic3\", \"Topic3\", \"Topic3\", \"Topic3\", \"Topic3\", \"Topic3\", \"Topic3\", \"Topic4\", \"Topic4\", \"Topic4\", \"Topic4\", \"Topic4\", \"Topic4\", \"Topic4\", \"Topic4\", \"Topic4\", \"Topic4\", \"Topic4\", \"Topic4\", \"Topic4\", \"Topic4\", \"Topic4\", \"Topic4\", \"Topic4\", \"Topic4\", \"Topic4\", \"Topic4\", \"Topic4\", \"Topic4\", \"Topic4\", \"Topic4\", \"Topic4\", \"Topic4\", \"Topic4\", \"Topic4\", \"Topic4\", \"Topic4\", \"Topic4\", \"Topic5\", \"Topic5\", \"Topic5\", \"Topic5\", \"Topic5\", \"Topic5\", \"Topic5\", \"Topic5\", \"Topic5\", \"Topic5\", \"Topic5\", \"Topic5\", \"Topic5\", \"Topic5\", \"Topic5\", \"Topic5\", \"Topic5\", \"Topic5\", \"Topic5\", \"Topic5\", \"Topic5\", \"Topic5\", \"Topic5\", \"Topic5\", \"Topic5\", \"Topic5\", \"Topic5\", \"Topic5\", \"Topic5\", \"Topic5\", \"Topic5\", \"Topic5\", \"Topic5\", \"Topic5\", \"Topic6\", \"Topic6\", \"Topic6\", \"Topic6\", \"Topic6\", \"Topic6\", \"Topic6\", \"Topic6\", \"Topic6\", \"Topic6\", \"Topic6\", \"Topic6\", \"Topic6\", \"Topic6\", \"Topic6\", \"Topic6\", \"Topic6\", \"Topic6\", \"Topic6\", \"Topic6\", \"Topic6\", \"Topic6\", \"Topic6\", \"Topic6\", \"Topic6\", \"Topic6\", \"Topic6\", \"Topic6\", \"Topic6\", \"Topic6\", \"Topic6\", \"Topic6\", \"Topic6\", \"Topic6\", \"Topic7\", \"Topic7\", \"Topic7\", \"Topic7\", \"Topic7\", \"Topic7\", \"Topic7\", \"Topic7\", \"Topic7\", \"Topic7\", \"Topic7\", \"Topic7\", \"Topic7\", \"Topic7\", \"Topic7\", \"Topic7\", \"Topic7\", \"Topic7\", \"Topic7\", \"Topic7\", \"Topic7\", \"Topic7\", \"Topic7\", \"Topic7\", \"Topic7\", \"Topic7\", \"Topic7\", \"Topic7\", \"Topic7\", \"Topic7\", \"Topic7\", \"Topic7\", \"Topic7\", \"Topic7\", \"Topic7\", \"Topic7\", \"Topic7\", \"Topic7\", \"Topic7\", \"Topic7\", \"Topic8\", \"Topic8\", \"Topic8\", \"Topic8\", \"Topic8\", \"Topic8\", \"Topic8\", \"Topic8\", \"Topic8\", \"Topic8\", \"Topic8\", \"Topic8\", \"Topic8\", \"Topic8\", \"Topic8\", \"Topic8\", \"Topic8\", \"Topic8\", \"Topic8\", \"Topic8\", \"Topic8\", \"Topic8\", \"Topic8\", \"Topic8\", \"Topic8\", \"Topic8\", \"Topic8\", \"Topic8\", \"Topic8\", \"Topic8\", \"Topic8\", \"Topic8\", \"Topic8\", \"Topic8\", \"Topic8\", \"Topic8\", \"Topic8\", \"Topic8\", \"Topic9\", \"Topic9\", \"Topic9\", \"Topic9\", \"Topic9\", \"Topic9\", \"Topic9\", \"Topic9\", \"Topic9\", \"Topic9\", \"Topic9\", \"Topic9\", \"Topic9\", \"Topic9\", \"Topic9\", \"Topic9\", \"Topic9\", \"Topic9\", \"Topic9\", \"Topic9\", \"Topic9\", \"Topic9\", \"Topic9\", \"Topic9\", \"Topic9\", \"Topic9\", \"Topic9\", \"Topic9\", \"Topic9\", \"Topic9\", \"Topic9\", \"Topic9\", \"Topic9\", \"Topic9\", \"Topic9\", \"Topic9\", \"Topic9\", \"Topic10\", \"Topic10\", \"Topic10\", \"Topic10\", \"Topic10\", \"Topic10\", \"Topic10\", \"Topic10\", \"Topic10\", \"Topic10\", \"Topic10\", \"Topic10\", \"Topic10\", \"Topic10\", \"Topic10\", \"Topic10\", \"Topic10\", \"Topic10\", \"Topic10\", \"Topic10\", \"Topic10\", \"Topic10\", \"Topic10\", \"Topic10\", \"Topic10\", \"Topic10\", \"Topic10\", \"Topic10\", \"Topic10\", \"Topic10\", \"Topic10\", \"Topic10\", \"Topic10\", \"Topic10\", \"Topic10\", \"Topic10\", \"Topic10\", \"Topic10\", \"Topic10\", \"Topic10\", \"Topic10\", \"Topic10\", \"Topic10\", \"Topic10\", \"Topic10\", \"Topic11\", \"Topic11\", \"Topic11\", \"Topic11\", \"Topic11\", \"Topic11\", \"Topic11\", \"Topic11\", \"Topic11\", \"Topic11\", \"Topic11\", \"Topic11\", \"Topic11\", \"Topic11\", \"Topic11\", \"Topic11\", \"Topic11\", \"Topic11\", \"Topic11\", \"Topic11\", \"Topic11\", \"Topic11\", \"Topic11\", \"Topic11\", \"Topic11\", \"Topic11\", \"Topic11\", \"Topic11\", \"Topic11\", \"Topic11\", \"Topic11\", \"Topic11\", \"Topic11\", \"Topic11\", \"Topic11\", \"Topic11\", \"Topic11\", \"Topic11\", \"Topic12\", \"Topic12\", \"Topic12\", \"Topic12\", \"Topic12\", \"Topic12\", \"Topic12\", \"Topic12\", \"Topic12\", \"Topic12\", \"Topic12\", \"Topic12\", \"Topic12\", \"Topic12\", \"Topic12\", \"Topic12\", \"Topic12\", \"Topic12\", \"Topic12\", \"Topic12\", \"Topic12\", \"Topic12\", \"Topic12\", \"Topic12\", \"Topic12\", \"Topic12\", \"Topic12\", \"Topic12\", \"Topic12\", \"Topic12\", \"Topic12\", \"Topic12\", \"Topic12\", \"Topic12\", \"Topic12\", \"Topic12\", \"Topic12\", \"Topic12\", \"Topic12\", \"Topic12\", \"Topic12\", \"Topic12\", \"Topic13\", \"Topic13\", \"Topic13\", \"Topic13\", \"Topic13\", \"Topic13\", \"Topic13\", \"Topic13\", \"Topic13\", \"Topic13\", \"Topic13\", \"Topic13\", \"Topic13\", \"Topic13\", \"Topic13\", \"Topic13\", \"Topic13\", \"Topic13\", \"Topic13\", \"Topic13\", \"Topic13\", \"Topic13\", \"Topic13\", \"Topic13\", \"Topic13\", \"Topic13\", \"Topic13\", \"Topic13\", \"Topic13\", \"Topic13\", \"Topic13\", \"Topic13\", \"Topic13\", \"Topic13\", \"Topic13\", \"Topic13\", \"Topic13\", \"Topic14\", \"Topic14\", \"Topic14\", \"Topic14\", \"Topic14\", \"Topic14\", \"Topic14\", \"Topic14\", \"Topic14\", \"Topic14\", \"Topic14\", \"Topic14\", \"Topic14\", \"Topic14\", \"Topic14\", \"Topic14\", \"Topic14\", \"Topic14\", \"Topic14\", \"Topic14\", \"Topic14\", \"Topic14\", \"Topic14\", \"Topic14\", \"Topic14\", \"Topic14\", \"Topic14\", \"Topic14\", \"Topic14\", \"Topic14\", \"Topic14\", \"Topic14\", \"Topic14\", \"Topic14\", \"Topic14\", \"Topic14\", \"Topic14\", \"Topic15\", \"Topic15\", \"Topic15\", \"Topic15\", \"Topic15\", \"Topic15\", \"Topic15\", \"Topic15\", \"Topic15\", \"Topic15\", \"Topic15\", \"Topic15\", \"Topic15\", \"Topic15\", \"Topic15\", \"Topic15\", \"Topic15\", \"Topic15\", \"Topic15\", \"Topic15\", \"Topic15\", \"Topic15\", \"Topic15\", \"Topic15\", \"Topic15\", \"Topic15\", \"Topic15\", \"Topic15\", \"Topic15\", \"Topic15\", \"Topic15\", \"Topic15\", \"Topic15\", \"Topic15\", \"Topic15\", \"Topic16\", \"Topic16\", \"Topic16\", \"Topic16\", \"Topic16\", \"Topic16\", \"Topic16\", \"Topic16\", \"Topic16\", \"Topic16\", \"Topic16\", \"Topic16\", \"Topic16\", \"Topic16\", \"Topic16\", \"Topic16\", \"Topic16\", \"Topic16\", \"Topic16\", \"Topic16\", \"Topic16\", \"Topic16\", \"Topic16\", \"Topic16\", \"Topic16\", \"Topic16\", \"Topic16\", \"Topic16\", \"Topic16\", \"Topic16\", \"Topic16\", \"Topic16\", \"Topic16\", \"Topic16\", \"Topic16\", \"Topic16\", \"Topic16\", \"Topic17\", \"Topic17\", \"Topic17\", \"Topic17\", \"Topic17\", \"Topic17\", \"Topic17\", \"Topic17\", \"Topic17\", \"Topic17\", \"Topic17\", \"Topic17\", \"Topic17\", \"Topic17\", \"Topic17\", \"Topic17\", \"Topic17\", \"Topic17\", \"Topic17\", \"Topic17\", \"Topic17\", \"Topic17\", \"Topic17\", \"Topic17\", \"Topic17\", \"Topic17\", \"Topic17\", \"Topic17\", \"Topic17\", \"Topic17\", \"Topic17\", \"Topic17\", \"Topic17\", \"Topic17\", \"Topic17\", \"Topic17\", \"Topic17\", \"Topic17\", \"Topic17\", \"Topic17\", \"Topic17\", \"Topic17\", \"Topic17\", \"Topic17\", \"Topic17\", \"Topic18\", \"Topic18\", \"Topic18\", \"Topic18\", \"Topic18\", \"Topic18\", \"Topic18\", \"Topic18\", \"Topic18\", \"Topic18\", \"Topic18\", \"Topic18\", \"Topic18\", \"Topic18\", \"Topic18\", \"Topic18\", \"Topic18\", \"Topic18\", \"Topic18\", \"Topic18\", \"Topic18\", \"Topic18\", \"Topic18\", \"Topic18\", \"Topic18\", \"Topic18\", \"Topic18\", \"Topic18\", \"Topic18\", \"Topic18\", \"Topic18\", \"Topic18\", \"Topic18\", \"Topic18\", \"Topic18\", \"Topic18\", \"Topic19\", \"Topic19\", \"Topic19\", \"Topic19\", \"Topic19\", \"Topic19\", \"Topic19\", \"Topic19\", \"Topic19\", \"Topic19\", \"Topic19\", \"Topic19\", \"Topic19\", \"Topic19\", \"Topic19\", \"Topic19\", \"Topic19\", \"Topic19\", \"Topic19\", \"Topic19\", \"Topic19\", \"Topic19\", \"Topic19\", \"Topic19\", \"Topic19\", \"Topic19\", \"Topic19\", \"Topic19\", \"Topic19\", \"Topic19\", \"Topic19\", \"Topic19\", \"Topic19\", \"Topic19\", \"Topic19\", \"Topic19\", \"Topic19\", \"Topic19\", \"Topic19\", \"Topic19\", \"Topic20\", \"Topic20\", \"Topic20\", \"Topic20\", \"Topic20\", \"Topic20\", \"Topic20\", \"Topic20\", \"Topic20\", \"Topic20\", \"Topic20\", \"Topic20\", \"Topic20\", \"Topic20\", \"Topic20\", \"Topic20\", \"Topic20\", \"Topic20\", \"Topic20\", \"Topic20\", \"Topic20\", \"Topic20\", \"Topic20\", \"Topic20\", \"Topic20\", \"Topic20\", \"Topic20\", \"Topic20\", \"Topic20\", \"Topic20\", \"Topic20\", \"Topic20\", \"Topic20\", \"Topic20\", \"Topic20\", \"Topic20\", \"Topic20\", \"Topic20\", \"Topic20\", \"Topic20\", \"Topic20\"], \"Freq\": [1340.0, 576.0, 505.0, 338.0, 406.0, 476.0, 384.0, 384.0, 454.0, 292.0, 284.0, 282.0, 261.0, 281.0, 367.0, 337.0, 201.0, 303.0, 362.0, 262.0, 302.0, 237.0, 257.0, 249.0, 247.0, 192.0, 245.0, 231.0, 235.0, 182.0, 474.9070129394531, 452.53369140625, 361.0245361328125, 247.71279907226562, 134.489013671875, 133.00933837890625, 128.55490112304688, 101.97825622558594, 96.66133880615234, 90.16475677490234, 87.2420425415039, 79.3667221069336, 60.268836975097656, 60.08734893798828, 50.388587951660156, 44.3275260925293, 42.430992126464844, 42.303138732910156, 39.69095230102539, 35.29257583618164, 32.56717300415039, 27.508995056152344, 23.66567611694336, 20.102434158325195, 12.821081161499023, 11.665844917297363, 9.196619987487793, 8.561957359313965, 7.413268089294434, 2.5769848823547363, 1339.021484375, 365.3069152832031, 169.29946899414062, 159.89981079101562, 26.790050506591797, 16.279375076293945, 6.274686336517334, 0.11045219004154205, 0.11044067144393921, 0.1104293018579483, 0.11045295000076294, 0.11044689267873764, 0.11053626984357834, 0.11040207743644714, 0.11046323925256729, 0.1103934645652771, 0.11039070039987564, 0.1104259341955185, 0.11040659993886948, 0.1104019358754158, 0.11047215014696121, 0.11039870232343674, 0.11039798706769943, 0.11038544774055481, 0.11037776619195938, 0.11036939918994904, 0.11036957800388336, 0.11036945134401321, 0.11040570586919785, 0.11039615422487259, 0.11045248061418533, 0.11041750758886337, 0.11043062061071396, 0.11042792350053787, 0.11039085686206818, 0.11039561778306961, 0.1104016974568367, 0.11039483547210693, 404.6069030761719, 382.8536682128906, 301.1220397949219, 233.51132202148438, 163.30731201171875, 68.48318481445312, 54.61995315551758, 44.986663818359375, 25.52074432373047, 24.015453338623047, 20.91457176208496, 12.903258323669434, 4.386337757110596, 0.789289653301239, 0.11767376214265823, 0.11764701455831528, 0.11769649386405945, 0.11776398867368698, 0.11763733625411987, 0.11762935668230057, 0.1176678016781807, 0.11761972308158875, 0.11764172464609146, 0.1176331415772438, 0.11761172115802765, 0.11761133372783661, 0.11760071665048599, 0.11759783327579498, 0.11763808876276016, 0.11760874092578888, 0.11763595789670944, 0.11764581501483917, 0.1176217794418335, 0.11763624101877213, 382.3349914550781, 335.52667236328125, 255.83441162109375, 132.28561401367188, 109.61764526367188, 83.99974822998047, 78.52281188964844, 70.42622375488281, 62.439998626708984, 38.95819091796875, 37.78627395629883, 34.13682556152344, 33.486358642578125, 30.49220848083496, 25.13158416748047, 19.681180953979492, 19.526966094970703, 19.514766693115234, 17.895753860473633, 15.842123985290527, 12.987422943115234, 12.94068717956543, 2.796224594116211, 2.087308168411255, 0.6694779992103577, 0.09636099636554718, 0.0964084044098854, 0.09624122828245163, 0.09624631702899933, 0.09629090875387192, 0.09624511003494263, 503.7113037109375, 248.1821746826172, 245.82093811035156, 243.36154174804688, 90.49872589111328, 54.80124282836914, 53.3763313293457, 49.368106842041016, 48.10268020629883, 43.980255126953125, 26.58951187133789, 24.877286911010742, 22.104276657104492, 21.160043716430664, 17.435970306396484, 15.71864128112793, 12.097853660583496, 9.78518295288086, 0.6486470699310303, 0.10817302763462067, 0.10814029723405838, 0.1081608459353447, 0.108201764523983, 0.10812608897686005, 0.10812687873840332, 0.10814747959375381, 0.10818982869386673, 0.10812202841043472, 0.1081550270318985, 0.10812180489301682, 0.10816438496112823, 0.10813260823488235, 0.10816527903079987, 0.10813445597887039, 301.5776672363281, 191.41795349121094, 148.5518798828125, 136.9353790283203, 105.7353515625, 86.38233947753906, 81.29833221435547, 51.72678756713867, 48.848026275634766, 47.40177536010742, 45.20710754394531, 39.08930587768555, 32.338104248046875, 30.109539031982422, 28.89916229248047, 27.950695037841797, 20.776073455810547, 11.652959823608398, 10.756963729858398, 5.034210205078125, 4.690912246704102, 3.6544442176818848, 3.5233442783355713, 3.4060182571411133, 1.0551090240478516, 0.8924373388290405, 0.1160287857055664, 0.11598126590251923, 0.11598624289035797, 0.11598460376262665, 0.1160024031996727, 0.1160203367471695, 0.11601487547159195, 0.11602731049060822, 574.4734497070312, 229.5208282470703, 187.95359802246094, 126.19816589355469, 125.63468933105469, 98.36353302001953, 63.02320861816406, 38.575294494628906, 27.090944290161133, 24.5361270904541, 0.10566858947277069, 0.10578712821006775, 0.10568664968013763, 0.10564025491476059, 0.10563799738883972, 0.10569571703672409, 0.1056378185749054, 0.10563939064741135, 0.10564736276865005, 0.10563673079013824, 0.10564867407083511, 0.10566452145576477, 0.10563507676124573, 0.1056578978896141, 0.105641208589077, 0.1056380644440651, 0.10565908253192902, 0.10562750697135925, 0.10563014447689056, 0.10562747716903687, 0.10570742189884186, 0.10569390654563904, 0.10566327720880508, 0.10565491020679474, 0.10569283366203308, 0.10565496981143951, 0.10565656423568726, 0.10564622282981873, 0.1056409627199173, 0.1056421548128128, 261.0669250488281, 189.59007263183594, 150.81358337402344, 119.8375244140625, 104.98020935058594, 89.84440612792969, 63.45771789550781, 52.12739181518555, 45.620643615722656, 16.641389846801758, 16.309171676635742, 14.00354290008545, 10.607226371765137, 0.5839638113975525, 0.09210602194070816, 0.09208289533853531, 0.0920802652835846, 0.0920802652835846, 0.09212764352560043, 0.09206962585449219, 0.09207362681627274, 0.0920558050274849, 0.09206957370042801, 0.09205655753612518, 0.0920465886592865, 0.09204588830471039, 0.09204261004924774, 0.09204835444688797, 0.09203678369522095, 0.09203466773033142, 0.09204006940126419, 0.0920804888010025, 0.09212914854288101, 0.09205199033021927, 0.09205792844295502, 0.09206720441579819, 0.09205739945173264, 0.09205770492553711, 188.907958984375, 141.28623962402344, 118.99768829345703, 116.70408630371094, 69.20902252197266, 63.69310760498047, 59.30840301513672, 57.844974517822266, 32.518001556396484, 31.160531997680664, 27.013593673706055, 19.994726181030273, 18.88681411743164, 17.839757919311523, 8.179920196533203, 7.176142692565918, 5.8177971839904785, 1.5095834732055664, 0.10079631209373474, 0.1007591113448143, 0.1007617637515068, 0.1007518321275711, 0.10074713081121445, 0.10074081271886826, 0.10077247768640518, 0.1007462665438652, 0.10073363035917282, 0.10073882341384888, 0.10072483122348785, 0.10073453187942505, 0.10074848681688309, 0.1008441224694252, 0.10079298913478851, 0.10075334459543228, 0.10076917707920074, 0.10075493156909943, 0.100753054022789, 336.4529113769531, 279.6673278808594, 153.78927612304688, 38.974246978759766, 26.595054626464844, 11.39440631866455, 3.359574794769287, 0.08469821512699127, 0.08470971137285233, 0.08469676226377487, 0.08467134833335876, 0.08469510078430176, 0.08467423170804977, 0.08469345420598984, 0.08467020094394684, 0.08466847240924835, 0.08466845005750656, 0.08466926962137222, 0.08466299623250961, 0.08466299623250961, 0.08466299623250961, 0.08466299623250961, 0.08466891944408417, 0.08466488867998123, 0.08467507362365723, 0.08466450870037079, 0.08467664569616318, 0.08467604219913483, 0.08466003090143204, 0.08466581255197525, 0.08466684818267822, 0.08467997610569, 0.08468540757894516, 0.0846874788403511, 0.08467385172843933, 0.08467894047498703, 0.08467593789100647, 0.08466946333646774, 0.08470698446035385, 0.08467726409435272, 0.08468928188085556, 0.08467364311218262, 0.08470071107149124, 0.08467737585306168, 0.08467110246419907, 235.39015197753906, 181.02145385742188, 71.26152038574219, 47.871986389160156, 45.42028045654297, 34.596588134765625, 31.376667022705078, 30.038869857788086, 24.286653518676758, 20.458059310913086, 17.210256576538086, 17.200632095336914, 14.486017227172852, 8.117044448852539, 2.7576117515563965, 1.7088783979415894, 0.8580208420753479, 0.09342622756958008, 0.0934039056301117, 0.0933881476521492, 0.09339645504951477, 0.09338375180959702, 0.09338310360908508, 0.09339791536331177, 0.09344812482595444, 0.09337852895259857, 0.0933847427368164, 0.09340474009513855, 0.09338326007127762, 0.09339076280593872, 0.09343279898166656, 0.09339839965105057, 0.09339910745620728, 0.09345690906047821, 0.09339115768671036, 0.09340804070234299, 0.09339778125286102, 0.09339302033185959, 157.2635955810547, 101.77459716796875, 93.25153350830078, 86.41893768310547, 63.80559539794922, 55.40183639526367, 51.93602752685547, 50.29595184326172, 33.60698318481445, 23.194107055664062, 21.59016227722168, 17.57599639892578, 16.129610061645508, 15.819287300109863, 3.0934746265411377, 1.7866264581680298, 1.0336729288101196, 0.0855792909860611, 0.08554884046316147, 0.08554841578006744, 0.08553539961576462, 0.08552192151546478, 0.08551855385303497, 0.08551499247550964, 0.08551499247550964, 0.08551499247550964, 0.08551499247550964, 0.08551499247550964, 0.08551505208015442, 0.0855150893330574, 0.08553429692983627, 0.08552464097738266, 0.08552506566047668, 0.08553098887205124, 0.08556263893842697, 0.08551713824272156, 0.08554774522781372, 0.08553697913885117, 0.08557716012001038, 0.08555277436971664, 0.08552882075309753, 0.085530124604702, 282.9324035644531, 280.435791015625, 77.5731201171875, 37.98763656616211, 24.48250961303711, 22.741199493408203, 14.055960655212402, 12.533956527709961, 11.485085487365723, 0.6187257170677185, 0.08854113519191742, 0.08854104578495026, 0.08854104578495026, 0.08853935450315475, 0.08854954689741135, 0.08854121714830399, 0.08854137361049652, 0.08854056894779205, 0.08853216469287872, 0.08853229135274887, 0.08852709829807281, 0.08852709829807281, 0.0885271206498146, 0.08852966129779816, 0.08852841705083847, 0.08852721005678177, 0.08853021264076233, 0.08853012323379517, 0.08852764219045639, 0.08852193504571915, 0.08854533731937408, 0.08853266388177872, 0.08853363990783691, 0.08854012936353683, 0.08853280544281006, 0.0885392427444458, 0.08852938562631607, 290.5151672363281, 190.80458068847656, 66.16864013671875, 45.377296447753906, 39.569950103759766, 32.32339859008789, 23.1737060546875, 18.556039810180664, 11.355437278747559, 11.100024223327637, 1.934277892112732, 0.08118938654661179, 0.0811818465590477, 0.08118248730897903, 0.08118317276239395, 0.08117007464170456, 0.08116959035396576, 0.08116964995861053, 0.08117596060037613, 0.0811932161450386, 0.08116983622312546, 0.08117427676916122, 0.08116330206394196, 0.08116330206394196, 0.08116330206394196, 0.08116593956947327, 0.08118032664060593, 0.08116337656974792, 0.08119208365678787, 0.08115803450345993, 0.08115961402654648, 0.08124902099370956, 0.0812007412314415, 0.08119196444749832, 0.08117036521434784, 0.08116639405488968, 0.08116602897644043, 144.1707305908203, 95.34953308105469, 76.53377532958984, 65.46985626220703, 59.72739028930664, 59.577327728271484, 49.913455963134766, 48.509910583496094, 33.15395736694336, 31.850875854492188, 17.183866500854492, 11.578706741333008, 9.82626724243164, 5.384164333343506, 2.2231736183166504, 0.08032025396823883, 0.08032025396823883, 0.08031442761421204, 0.08040399849414825, 0.08034197986125946, 0.08029360324144363, 0.08029458671808243, 0.08029407262802124, 0.08029793202877045, 0.08030617237091064, 0.08030950278043747, 0.08029930293560028, 0.08029300719499588, 0.08028300106525421, 0.08028468489646912, 0.08029907196760178, 0.08028777688741684, 0.08030735701322556, 0.08030920475721359, 0.08029405772686005, 148.6062774658203, 117.47515106201172, 65.46146392822266, 63.9715690612793, 33.90591812133789, 27.835046768188477, 22.022689819335938, 21.40953254699707, 15.252093315124512, 13.635734558105469, 13.207173347473145, 11.275368690490723, 10.045075416564941, 8.519599914550781, 8.325303077697754, 4.894893169403076, 3.3319437503814697, 2.381627082824707, 1.3397266864776611, 0.0838450938463211, 0.0838070958852768, 0.08382856845855713, 0.08380991220474243, 0.0837993249297142, 0.08379346132278442, 0.08378969132900238, 0.08378666639328003, 0.08378525823354721, 0.08379461616277695, 0.08379256725311279, 0.08384405821561813, 0.08380595594644547, 0.0838053748011589, 0.08379866927862167, 0.083803191781044, 0.08380673825740814, 0.08380164951086044, 260.1300048828125, 110.15032196044922, 55.2451057434082, 50.62656784057617, 38.77838897705078, 33.358577728271484, 0.08863688260316849, 0.08862786740064621, 0.08861507475376129, 0.08861337602138519, 0.08863423764705658, 0.08862843364477158, 0.08861510455608368, 0.08860528469085693, 0.08860528469085693, 0.08860529214143753, 0.08860611915588379, 0.08861169964075089, 0.08860313892364502, 0.08860303461551666, 0.08860303461551666, 0.08861086517572403, 0.0886034294962883, 0.08860307186841965, 0.0886041447520256, 0.08860562741756439, 0.08860359340906143, 0.08860187232494354, 0.08860550820827484, 0.0886007770895958, 0.08860640972852707, 0.0886053815484047, 0.08863995224237442, 0.08861009031534195, 0.08865875005722046, 0.08861633390188217, 0.08861041814088821, 0.08862720429897308, 0.08860849589109421, 0.08861491084098816, 0.08861087262630463, 0.08860856294631958, 0.08860813081264496, 0.0886104628443718, 0.08860661089420319, 57.60988998413086, 53.73166275024414, 44.50851821899414, 36.653717041015625, 24.581560134887695, 23.719364166259766, 21.882110595703125, 18.49488067626953, 15.773427963256836, 9.785347938537598, 8.505687713623047, 8.06115436553955, 0.09046690911054611, 0.09052738547325134, 0.09044516086578369, 0.09044275432825089, 0.09044275432825089, 0.09044275432825089, 0.09044275432825089, 0.09043699502944946, 0.09043699502944946, 0.09043177962303162, 0.09043180197477341, 0.09042958915233612, 0.0904296487569809, 0.09042955935001373, 0.09042955189943314, 0.09043265134096146, 0.09043955057859421, 0.09043186157941818, 0.09044142812490463, 0.090431809425354, 0.09044184535741806, 0.0904318243265152, 0.09044510871171951, 0.09043388813734055, 199.61492919921875, 53.77574157714844, 48.04607391357422, 14.348387718200684, 7.781785488128662, 0.46343234181404114, 0.043648406863212585, 0.043639179319143295, 0.043639179319143295, 0.0436374768614769, 0.0436379536986351, 0.04363631457090378, 0.043633945286273956, 0.043633945286273956, 0.043633945286273956, 0.043633945286273956, 0.04363764077425003, 0.043633945286273956, 0.04364321008324623, 0.04363425076007843, 0.04363106191158295, 0.04363106191158295, 0.043629761785268784, 0.04363107308745384, 0.04363129660487175, 0.043653346598148346, 0.043631065636873245, 0.043629635125398636, 0.04363175854086876, 0.04363252967596054, 0.04363666847348213, 0.04365021735429764, 0.04363508149981499, 0.043657395988702774, 0.043632201850414276, 0.04363301396369934, 0.04363434016704559, 0.04363296553492546, 0.043635088950395584, 0.04363316297531128, 91.55758666992188, 28.11433219909668, 13.955900192260742, 11.35758113861084, 10.488636016845703, 4.321353912353516, 1.3570665121078491, 0.059904471039772034, 0.059904471039772034, 0.059904471039772034, 0.05990691855549812, 0.059889137744903564, 0.05988011136651039, 0.05988025292754173, 0.05988011136651039, 0.05987893044948578, 0.05989143252372742, 0.05987880378961563, 0.05987916886806488, 0.05987885221838951, 0.05987858399748802, 0.059878408908843994, 0.059878457337617874, 0.05988025292754173, 0.059878408908843994, 0.059878408908843994, 0.05987858399748802, 0.059879571199417114, 0.05987734720110893, 0.05988025292754173, 0.05987858399748802, 0.05989353731274605, 0.059886783361434937, 0.05988079309463501, 0.0598880909383297, 0.05988025292754173, 0.05988120287656784, 0.05989593639969826, 0.0598810538649559, 0.059880372136831284, 0.05988118052482605], \"Term\": [\"say\", \"like\", \"go\", \"one\", \"get\", \"look\", \"see\", \"night\", \"make\", \"remember\", \"could\", \"feel\", \"man\", \"thing\", \"take\", \"know\", \"dead\", \"come\", \"back\", \"time\", \"would\", \"almost\", \"way\", \"right\", \"head\", \"eye\", \"something\", \"think\", \"dark\", \"kiowa\", \"look\", \"make\", \"back\", \"hand\", \"father\", \"turn\", \"sound\", \"afternoon\", \"late\", \"sure\", \"hour\", \"hold\", \"without\", \"last\", \"pull\", \"finger\", \"sad\", \"slow\", \"leave\", \"beneath\", \"hair\", \"march\", \"knee\", \"leg\", \"foxhole\", \"tip\", \"spend\", \"whenever\", \"catch\", \"certainly\", \"say\", \"take\", \"war\", \"never\", \"line\", \"often\", \"care\", \"well\", \"hey\", \"sander\", \"azar\", \"timmy\", \"linda\", \"today\", \"try\", \"shrug\", \"okay\", \"little\", \"somebody\", \"word\", \"body\", \"step\", \"ever\", \"cry\", \"nodded\", \"classroom\", \"inevitable\", \"tease\", \"ask\", \"jorgenson\", \"even\", \"tell\", \"smile\", \"story\", \"high\", \"nobody\", \"talk\", \"start\", \"get\", \"night\", \"would\", \"dark\", \"move\", \"fire\", \"full\", \"check\", \"hole\", \"perimeter\", \"slowly\", \"return\", \"claymore\", \"virgin\", \"later\", \"sleep\", \"try\", \"linda\", \"wait\", \"hootch\", \"story\", \"trick\", \"dream\", \"life\", \"loop\", \"ghost\", \"naked\", \"slide\", \"talk\", \"ice\", \"smile\", \"body\", \"tell\", \"even\", \"see\", \"know\", \"way\", \"sometimes\", \"walk\", \"though\", \"mean\", \"understand\", \"picture\", \"must\", \"pretend\", \"wonder\", \"beyond\", \"medic\", \"shadow\", \"nearly\", \"better\", \"especially\", \"form\", \"far\", \"wall\", \"fill\", \"total\", \"spread\", \"canvas\", \"even\", \"linda\", \"yet\", \"timmy\", \"body\", \"smile\", \"go\", \"right\", \"head\", \"something\", \"water\", \"shoulder\", \"shoot\", \"village\", \"rest\", \"scare\", \"outside\", \"do\", \"shot\", \"khe\", \"brave\", \"fear\", \"chest\", \"belt\", \"paper\", \"shake\", \"ice\", \"talk\", \"body\", \"skate\", \"let\", \"still\", \"even\", \"sort\", \"tell\", \"suppose\", \"try\", \"put\", \"linda\", \"smile\", \"come\", \"sit\", \"guy\", \"watch\", \"happen\", \"around\", \"movie\", \"fall\", \"paddy\", \"hot\", \"platoon\", \"burn\", \"flat\", \"spin\", \"afterward\", \"poor\", \"center\", \"roll\", \"rock\", \"trap\", \"fuck\", \"security\", \"booby\", \"mine\", \"hump\", \"pistol\", \"later\", \"alone\", \"high\", \"whole\", \"dream\", \"story\", \"try\", \"linda\", \"like\", \"think\", \"much\", \"stop\", \"face\", \"field\", \"young\", \"several\", \"smooth\", \"anything\", \"skin\", \"linda\", \"talk\", \"question\", \"apparently\", \"smile\", \"silly\", \"happy\", \"may\", \"warm\", \"soft\", \"inside\", \"mistake\", \"nobody\", \"glance\", \"cry\", \"ask\", \"wood\", \"miracle\", \"stretch\", \"body\", \"try\", \"later\", \"maybe\", \"even\", \"little\", \"story\", \"still\", \"somebody\", \"tell\", \"time\", \"old\", \"long\", \"bad\", \"second\", \"two\", \"room\", \"bed\", \"touch\", \"tie\", \"quickly\", \"weapon\", \"large\", \"wallet\", \"everything\", \"safe\", \"library\", \"shelf\", \"even\", \"begin\", \"year\", \"earlier\", \"yet\", \"nine\", \"practice\", \"funny\", \"anyhow\", \"quiet\", \"lunch\", \"cigarette\", \"aisle\", \"story\", \"linda\", \"lie\", \"tell\", \"body\", \"smile\", \"try\", \"seem\", \"first\", \"alive\", \"name\", \"another\", \"girl\", \"kill\", \"also\", \"stay\", \"cross\", \"whatever\", \"letter\", \"lieutenant_jimmy\", \"present\", \"brush\", \"college\", \"add\", \"steel\", \"real\", \"forty_three\", \"years_old\", \"date\", \"writer\", \"exactly\", \"still\", \"behind\", \"cool\", \"part\", \"awkward\", \"small\", \"lie\", \"linda\", \"even\", \"dream\", \"body\", \"talk\", \"try\", \"one\", \"thing\", \"die\", \"easy\", \"least\", \"band\", \"smoke\", \"point\", \"tell\", \"inside\", \"course\", \"ask\", \"human\", \"maybe\", \"important\", \"breakfast\", \"meeting\", \"become\", \"aged\", \"sergeant\", \"infantry\", \"sorrow\", \"asleep\", \"month\", \"other\", \"guilt\", \"secret\", \"word\", \"class\", \"left\", \"side\", \"yet\", \"dream\", \"little\", \"finally\", \"place\", \"wait\", \"blade\", \"body\", \"life\", \"smile\", \"year\", \"linda\", \"even\", \"still\", \"almost\", \"kiowa\", \"morning\", \"bright\", \"explain\", \"call\", \"fast\", \"school\", \"every\", \"mitchell_sanders\", \"drop\", \"dusk\", \"radio\", \"killer\", \"worth\", \"teach\", \"dug\", \"ted_lavender\", \"earlier\", \"sky\", \"mother\", \"friend\", \"four\", \"yellow\", \"even\", \"breakfast\", \"believe\", \"timmy\", \"lemon\", \"finally\", \"try\", \"cap\", \"ask\", \"linda\", \"curt_lemon\", \"body\", \"story\", \"smile\", \"keep\", \"nothing\", \"except\", \"light\", \"big\", \"always\", \"heavy\", \"else\", \"gas\", \"rifle\", \"among\", \"load\", \"tear\", \"grenade\", \"ammunition\", \"machine\", \"common\", \"bug\", \"yellow\", \"nobody\", \"skate\", \"empty\", \"cloud\", \"chemically\", \"dna\", \"fuckedup\", \"defoliant\", \"ddt\", \"giant\", \"mutant\", \"jorgenson\", \"skin\", \"sandbag\", \"front\", \"even\", \"crouch\", \"smile\", \"azar\", \"linda\", \"body\", \"dream\", \"talk\", \"could\", \"feel\", \"use\", \"green\", \"cold\", \"wet\", \"pain\", \"sweat\", \"carefully\", \"tent\", \"bluish\", \"wool\", \"mitten\", \"feet\", \"smell\", \"dry\", \"stove\", \"pencil\", \"blame\", \"miracle\", \"vein\", \"skull\", \"structure\", \"bone\", \"pant\", \"exact\", \"shrug\", \"hear\", \"funny\", \"anythinga\", \"maybe\", \"along\", \"ever\", \"tell\", \"start\", \"try\", \"wait\", \"remember\", \"eye\", \"stare\", \"good\", \"open\", \"straight\", \"lip\", \"gray\", \"single\", \"door\", \"slightly\", \"ahead\", \"closing\", \"drive\", \"mother\", \"curve\", \"crinkles\", \"corner\", \"close\", \"real\", \"gently\", \"skin\", \"loosely\", \"lock\", \"blackboard\", \"fold\", \"front\", \"lap\", \"little\", \"peaceful\", \"fence\", \"linda\", \"try\", \"smile\", \"-PRON-\", \"ice\", \"body\", \"want\", \"love\", \"mitchell_sander\", \"book\", \"black\", \"matter\", \"hope\", \"partly\", \"together\", \"mostly\", \"plastic\", \"car\", \"situation\", \"rucksack\", \"various\", \"willpow\", \"faith\", \"kind\", \"linda\", \"story\", \"read\", \"reading\", \"lose\", \"nine\", \"start\", \"real\", \"somebody\", \"pick\", \"bag\", \"pink\", \"inside\", \"laugh\", \"even\", \"body\", \"tell\", \"away\", \"stand\", \"reach\", \"across\", \"chopper\", \"lift\", \"near\", \"instance\", \"pocket\", \"sharp\", \"tongue\", \"heat\", \"bend\", \"palm\", \"focus\", \"floor\", \"action\", \"military\", \"ration\", \"cap\", \"stock\", \"put\", \"red\", \"thirty\", \"gently\", \"tassel\", \"meter\", \"streetlight\", \"slip\", \"side\", \"try\", \"life\", \"timmy\", \"high\", \"azar\", \"story\", \"smile\", \"man\", \"white\", \"short\", \"norman_bowker\", \"live\", \"wear\", \"sandbag\", \"truck\", \"tassel\", \"paint\", \"cap\", \"hootch\", \"casket\", \"elve\", \"santa\", \"fuzzy\", \"shape\", \"treat\", \"assign\", \"kias\", \"july\", \"six\", \"battle\", \"police\", \"early\", \"pigpen\", \"enemy\", \"slim\", \"identity\", \"shallow\", \"naked\", \"color\", \"body\", \"work\", \"linda\", \"still\", \"ted_lavender\", \"even\", \"ghost\", \"azar\", \"lie\", \"place\", \"life\", \"try\", \"inside\", \"carry\", \"three\", \"foot\", \"dave_jensen\", \"henry_dobbin\", \"arrive\", \"round\", \"extra\", \"pair\", \"wrap\", \"dustoff\", \"jungle\", \"lay\", \"body\", \"road\", \"alongside\", \"dirt\", \"clear\", \"narrow\", \"faith\", \"willpow\", \"canteens\", \"ammo\", \"dope\", \"medical\", \"kit\", \"sock\", \"strip\", \"boot\", \"poncho\", \"high\", \"stuff\", \"put\", \"dry\", \"story\", \"moment\", \"dead\", \"new\", \"rat_kiley\", \"mountain\", \"imagine\", \"obvious\", \"well\", \"identity\", \"embody\", \"japan\", \"float\", \"quite\", \"milk\", \"living\", \"sofa\", \"drank\", \"corpse\", \"chocolate\", \"lie\", \"really\", \"smiled\", \"wood\", \"brand\", \"warm\", \"god\", \"story\", \"stove\", \"tunnel\", \"house\", \"listen\", \"curt_lemon\", \"body\", \"ever\", \"linda\", \"vietnam\", \"red\", \"later\", \"cap\", \"try\", \"tell\", \"day\", \"write\", \"land\", \"great\", \"cover\", \"respect\", \"fatigue\", \"downa\", \"scene\", \"dialogue\", \"other\", \"help\", \"poise\", \"benson\", \"dignity\", \"humor\", \"home\", \"elder\", \"finished\", \"develop\", \"fingerpainte\", \"reality\", \"deal\", \"view\", \"drug\", \"ease\", \"teacher\", \"sense\", \"blind\", \"september\", \"spelling\", \"little\", \"cap\", \"rat\", \"later\", \"funeral\", \"week\", \"linda\", \"inside\", \"ask\", \"body\"], \"Total\": [1340.0, 576.0, 505.0, 338.0, 406.0, 476.0, 384.0, 384.0, 454.0, 292.0, 284.0, 282.0, 261.0, 281.0, 367.0, 337.0, 201.0, 303.0, 362.0, 262.0, 302.0, 237.0, 257.0, 249.0, 247.0, 192.0, 245.0, 231.0, 235.0, 182.0, 476.6329650878906, 454.2596435546875, 362.75048828125, 249.438720703125, 136.21493530273438, 134.73526000976562, 130.28082275390625, 103.70416259765625, 98.38724517822266, 91.89066314697266, 88.96794891357422, 81.0926284790039, 61.9947509765625, 61.813262939453125, 52.114501953125, 46.05344009399414, 44.15690612792969, 44.029052734375, 41.416866302490234, 37.018489837646484, 34.293087005615234, 29.234901428222656, 25.391582489013672, 21.828340530395508, 14.546989440917969, 13.391753196716309, 10.922528266906738, 10.28786563873291, 9.139175415039062, 4.30289363861084, 1340.7467041015625, 367.0321350097656, 171.02468872070312, 161.62503051757812, 28.515249252319336, 18.004573822021484, 7.999885559082031, 1.83597993850708, 1.8359401226043701, 1.835871934890747, 1.836286187171936, 1.8361928462982178, 1.837928056716919, 1.83574378490448, 1.8368711471557617, 1.8357168436050415, 1.8356971740722656, 1.8363016843795776, 1.8359816074371338, 1.8359179496765137, 1.8371012210845947, 1.835937261581421, 1.8360010385513306, 1.8358063697814941, 1.8356784582138062, 1.835577368736267, 1.8355810642242432, 1.8355798721313477, 1.836184024810791, 1.8360332250595093, 1.8369852304458618, 1.8364062309265137, 1.8366345167160034, 1.8366222381591797, 1.8359556198120117, 1.8361051082611084, 1.8363925218582153, 1.8361008167266846, 406.324951171875, 384.57171630859375, 302.840087890625, 235.22933959960938, 165.02532958984375, 70.20117950439453, 56.337955474853516, 46.70466613769531, 27.238740921020508, 25.733449935913086, 22.632568359375, 14.621256828308105, 6.104335308074951, 2.5072882175445557, 1.8363107442855835, 1.8359766006469727, 1.8368711471557617, 1.837928056716919, 1.8360248804092407, 1.8360134363174438, 1.8366222381591797, 1.8358943462371826, 1.836242914199829, 1.8361197710037231, 1.8358778953552246, 1.8358863592147827, 1.835722804069519, 1.83571457862854, 1.8363925218582153, 1.8359354734420776, 1.8366345167160034, 1.8371012210845947, 1.8364062309265137, 1.8369852304458618, 384.0744323730469, 337.26611328125, 257.5738525390625, 134.0250244140625, 111.35704040527344, 85.73914337158203, 80.26220703125, 72.16561889648438, 64.17940521240234, 40.697593688964844, 39.52567672729492, 35.87622833251953, 35.22576141357422, 32.231605529785156, 26.87097930908203, 21.420576095581055, 21.266361236572266, 21.254161834716797, 19.635149002075195, 17.581518173217773, 14.72681999206543, 14.680084228515625, 4.535621643066406, 3.8267059326171875, 2.4088752269744873, 1.8369852304458618, 1.837928056716919, 1.8360618352890015, 1.8361928462982178, 1.8371012210845947, 1.8366345167160034, 505.4388427734375, 249.90965270996094, 247.5484161376953, 245.08901977539062, 92.2261962890625, 56.528724670410156, 55.10381317138672, 51.09558868408203, 49.830162048339844, 45.70773696899414, 28.316986083984375, 26.604761123657227, 23.831750869750977, 22.88751792907715, 19.16344451904297, 17.446115493774414, 13.82532787322998, 11.512657165527344, 2.37612247467041, 1.8359806537628174, 1.8359354734420776, 1.8363925218582153, 1.8371012210845947, 1.8358505964279175, 1.835874319076538, 1.836265206336975, 1.8369852304458618, 1.8358349800109863, 1.8364062309265137, 1.8358583450317383, 1.8368711471557617, 1.836171269416809, 1.837928056716919, 1.8366345167160034, 303.29736328125, 193.1375732421875, 150.27149963378906, 138.65499877929688, 107.45497131347656, 88.10195922851562, 83.01795196533203, 53.446414947509766, 50.56765365600586, 49.121402740478516, 46.926734924316406, 40.80893325805664, 34.05773162841797, 31.829158782958984, 30.61878204345703, 29.67031478881836, 22.49569320678711, 13.372581481933594, 12.476585388183594, 6.75383186340332, 6.410533905029297, 5.37406587600708, 5.2429656982421875, 5.125639915466309, 2.7747318744659424, 2.6120598316192627, 1.8363107442855835, 1.8358392715454102, 1.8359556198120117, 1.8359432220458984, 1.836242914199829, 1.8366222381591797, 1.8368711471557617, 1.837928056716919, 576.2033081054688, 231.2507781982422, 189.6835479736328, 127.9281005859375, 127.3646240234375, 100.09346771240234, 64.7531509399414, 40.305240631103516, 28.820880889892578, 26.266063690185547, 1.8358242511749268, 1.837928056716919, 1.8363925218582153, 1.835624098777771, 1.835618257522583, 1.8366345167160034, 1.8356304168701172, 1.8356629610061646, 1.8358291387557983, 1.8356667757034302, 1.8358761072158813, 1.8361610174179077, 1.8356950283050537, 1.8361051082611084, 1.8358368873596191, 1.8358063697814941, 1.836184024810791, 1.8356362581253052, 1.835685133934021, 1.8356444835662842, 1.8371012210845947, 1.8368711471557617, 1.8363107442855835, 1.8361542224884033, 1.8369852304458618, 1.8363016843795776, 1.8366222381591797, 1.836265206336975, 1.8359816074371338, 1.8364062309265137, 262.8105163574219, 191.33360290527344, 152.55711364746094, 121.58104705810547, 106.7237319946289, 91.58792877197266, 65.20124053955078, 53.87092590332031, 47.36417770385742, 18.38491439819336, 18.052696228027344, 15.7470703125, 12.350753784179688, 2.3274917602539062, 1.8359259366989136, 1.8356887102127075, 1.8356746435165405, 1.8356746435165405, 1.8369852304458618, 1.8359133005142212, 1.8360233306884766, 1.8357681035995483, 1.8360618352890015, 1.8358608484268188, 1.835677981376648, 1.8356889486312866, 1.8356311321258545, 1.8357936143875122, 1.8356245756149292, 1.8355989456176758, 1.8357114791870117, 1.8366222381591797, 1.837928056716919, 1.8360666036605835, 1.8364062309265137, 1.8371012210845947, 1.8366345167160034, 1.8368711471557617, 190.64279174804688, 143.0210723876953, 120.7325210571289, 118.43891906738281, 70.94385528564453, 65.42794036865234, 61.043243408203125, 59.57981491088867, 34.25284194946289, 32.8953742980957, 28.74842643737793, 21.72955894470215, 20.621646881103516, 19.5745906829834, 9.914755821228027, 8.910979270935059, 7.552632808685303, 3.244420051574707, 1.8361989259719849, 1.8357149362564087, 1.8358631134033203, 1.8357197046279907, 1.8357620239257812, 1.835684895515442, 1.836265206336975, 1.8359527587890625, 1.835742473602295, 1.8358427286148071, 1.8356183767318726, 1.835806131362915, 1.8360666036605835, 1.837928056716919, 1.8369852304458618, 1.836242914199829, 1.8371012210845947, 1.8363925218582153, 1.8368711471557617, 338.203857421875, 281.41827392578125, 155.54017639160156, 40.72514343261719, 28.345945358276367, 13.145299911499023, 5.11046838760376, 1.835853099822998, 1.8364062309265137, 1.8361610174179077, 1.8356683254241943, 1.836184024810791, 1.8357373476028442, 1.8361542224884033, 1.8356667757034302, 1.8356446027755737, 1.835648775100708, 1.835737705230713, 1.835602879524231, 1.8356032371520996, 1.8356033563613892, 1.835603952407837, 1.8357443809509277, 1.8356597423553467, 1.8358848094940186, 1.8356603384017944, 1.8359274864196777, 1.8359179496765137, 1.8355746269226074, 1.8357042074203491, 1.8357362747192383, 1.8360618352890015, 1.836242914199829, 1.8363016843795776, 1.8359403610229492, 1.8361021280288696, 1.8360248804092407, 1.8358206748962402, 1.8371012210845947, 1.8361197710037231, 1.8366345167160034, 1.8360233306884766, 1.837928056716919, 1.8369852304458618, 1.836265206336975, 237.13233947753906, 182.76364135742188, 73.00370788574219, 49.61418151855469, 47.1624755859375, 36.338783264160156, 33.11886215209961, 31.78105926513672, 26.02884292602539, 22.20024871826172, 18.95244598388672, 18.942821502685547, 16.228206634521484, 9.859235763549805, 4.499802112579346, 3.4510698318481445, 2.6002118587493896, 1.835984230041504, 1.8357681035995483, 1.8357150554656982, 1.835879921913147, 1.8357151746749878, 1.8357038497924805, 1.835997223854065, 1.8369852304458618, 1.8356446027755737, 1.8357784748077393, 1.8361928462982178, 1.8357816934585571, 1.8359403610229492, 1.8368711471557617, 1.83612859249115, 1.836184024810791, 1.837928056716919, 1.8359615802764893, 1.8371012210845947, 1.8366222381591797, 1.8366345167160034, 159.0136260986328, 103.5246353149414, 95.00157165527344, 88.16897583007812, 65.55563354492188, 57.15188217163086, 53.686073303222656, 52.045997619628906, 35.35702896118164, 24.94414710998535, 23.34020233154297, 19.32603645324707, 17.879650115966797, 17.569326400756836, 4.843515396118164, 3.536668300628662, 2.783714771270752, 1.8358030319213867, 1.835997223854065, 1.8361051082611084, 1.8358505964279175, 1.8356740474700928, 1.8356198072433472, 1.835573673248291, 1.835573673248291, 1.835573673248291, 1.835573673248291, 1.835573673248291, 1.835580587387085, 1.8355838060379028, 1.8360332250595093, 1.8358242511749268, 1.835848331451416, 1.8360278606414795, 1.8369852304458618, 1.8356369733810425, 1.8366345167160034, 1.836286187171936, 1.837928056716919, 1.8371012210845947, 1.836242914199829, 1.8363925218582153, 284.6794738769531, 282.182861328125, 79.32015991210938, 39.73467254638672, 26.229541778564453, 24.488231658935547, 15.802993774414062, 14.280989646911621, 13.232118606567383, 2.3657588958740234, 1.8355916738510132, 1.8356066942214966, 1.8356066942214966, 1.8355869054794312, 1.8358612060546875, 1.8356983661651611, 1.8357057571411133, 1.8357402086257935, 1.835647463798523, 1.835685133934021, 1.8355892896652222, 1.8355910778045654, 1.83559250831604, 1.8356459140777588, 1.835633397102356, 1.8356492519378662, 1.8357168436050415, 1.8357259035110474, 1.8356889486312866, 1.8355720043182373, 1.8361542224884033, 1.835937738418579, 1.8360010385513306, 1.8364062309265137, 1.8361008167266846, 1.8368711471557617, 1.8360248804092407, 292.26959228515625, 192.55897521972656, 67.92304992675781, 47.13170623779297, 41.32435989379883, 34.07780838012695, 24.928110122680664, 20.310443878173828, 13.109842300415039, 12.854429244995117, 3.688682794570923, 1.8356555700302124, 1.835672378540039, 1.8357890844345093, 1.835879921913147, 1.8355895280838013, 1.8355839252471924, 1.8356183767318726, 1.8357775211334229, 1.8361989259719849, 1.8356794118881226, 1.8358242511749268, 1.8355934619903564, 1.8355934619903564, 1.8355934619903564, 1.8356878757476807, 1.8360278606414795, 1.8356499671936035, 1.8363016843795776, 1.835576057434082, 1.8356153964996338, 1.837928056716919, 1.8368711471557617, 1.8366345167160034, 1.8359296321868896, 1.8359354734420776, 1.8371012210845947, 145.92599487304688, 97.10482025146484, 78.2890625, 67.22514343261719, 61.48267364501953, 61.332611083984375, 51.668739318847656, 50.265193939208984, 34.90924072265625, 33.60615921020508, 18.93914794921875, 13.333988189697266, 11.581548690795898, 7.139444828033447, 3.97845458984375, 1.8356661796569824, 1.8356661796569824, 1.8358601331710815, 1.837928056716919, 1.8366222381591797, 1.8356423377990723, 1.835675597190857, 1.8357261419296265, 1.8358608484268188, 1.8361008167266846, 1.8361989259719849, 1.8359816074371338, 1.8358464241027832, 1.8356356620788574, 1.8356902599334717, 1.8361610174179077, 1.8357940912246704, 1.8369852304458618, 1.8371012210845947, 1.8364062309265137, 150.3580322265625, 119.22692108154297, 67.2132339477539, 65.72334289550781, 35.657684326171875, 29.58681297302246, 23.774456024169922, 23.161298751831055, 17.00385856628418, 15.38750171661377, 14.958940505981445, 13.027135848999023, 11.796842575073242, 10.271367073059082, 10.077070236206055, 6.6466593742370605, 5.083710193634033, 4.13339376449585, 3.0914933681488037, 1.83612859249115, 1.835662841796875, 1.836171269416809, 1.8359135389328003, 1.8357532024383545, 1.8356794118881226, 1.8356349468231201, 1.8355883359909058, 1.835566520690918, 1.8357810974121094, 1.8357362747192383, 1.8368711471557617, 1.8361197710037231, 1.8361928462982178, 1.8359556198120117, 1.836286187171936, 1.8366222381591797, 1.8366345167160034, 261.876953125, 111.89727783203125, 56.99205780029297, 52.37351989746094, 40.52534103393555, 35.10552978515625, 1.835848331451416, 1.8357033729553223, 1.8356349468231201, 1.8356894254684448, 1.83612859249115, 1.8360134363174438, 1.8357552289962769, 1.835584044456482, 1.835584044456482, 1.835592269897461, 1.835625171661377, 1.8357529640197754, 1.8355790376663208, 1.8355785608291626, 1.8355838060379028, 1.8357528448104858, 1.8356088399887085, 1.8356045484542847, 1.8356285095214844, 1.8356679677963257, 1.8356273174285889, 1.8356037139892578, 1.8356801271438599, 1.835587501525879, 1.835722804069519, 1.8357073068618774, 1.8371012210845947, 1.8358973264694214, 1.837928056716919, 1.836265206336975, 1.835984230041504, 1.8369852304458618, 1.8358863592147827, 1.836286187171936, 1.8360666036605835, 1.8361021280288696, 1.8361197710037231, 1.8368711471557617, 1.8361610174179077, 59.35503005981445, 55.476802825927734, 46.253658294677734, 38.39885711669922, 26.326698303222656, 25.464502334594727, 23.627248764038086, 20.240018844604492, 17.518566131591797, 11.530488014221191, 10.25082778930664, 9.806294441223145, 1.8357720375061035, 1.8371012210845947, 1.8356600999832153, 1.8356164693832397, 1.835628628730774, 1.8356330394744873, 1.835641860961914, 1.8356661796569824, 1.8356661796569824, 1.8356009721755981, 1.8356293439865112, 1.835585355758667, 1.8355870246887207, 1.835587501525879, 1.8355897665023804, 1.83566153049469, 1.8358243703842163, 1.8356739282608032, 1.8359556198120117, 1.8356881141662598, 1.836171269416809, 1.8356983661651611, 1.8366222381591797, 1.8359920978546143, 201.4068603515625, 55.56766128540039, 49.83799362182617, 16.140308380126953, 9.573705673217773, 2.255352735519409, 1.83597993850708, 1.8356801271438599, 1.8356802463531494, 1.8356361389160156, 1.8356688022613525, 1.8356753587722778, 1.8355824947357178, 1.8355824947357178, 1.8355824947357178, 1.835595726966858, 1.835780143737793, 1.8356717824935913, 1.8360666036605835, 1.8357683420181274, 1.8356356620788574, 1.8356362581253052, 1.8355965614318848, 1.8356667757034302, 1.8356858491897583, 1.8366222381591797, 1.8357057571411133, 1.8356471061706543, 1.8357480764389038, 1.83578360080719, 1.8359615802764893, 1.8371012210845947, 1.8360010385513306, 1.837928056716919, 1.8357881307601929, 1.8359135389328003, 1.8363107442855835, 1.83612859249115, 1.8368711471557617, 1.8364062309265137, 93.333251953125, 29.89000129699707, 15.731569290161133, 13.13325023651123, 12.264305114746094, 6.097023010253906, 3.132735252380371, 1.8356075286865234, 1.835608720779419, 1.8356537818908691, 1.8358848094940186, 1.8357622623443604, 1.8355605602264404, 1.835591435432434, 1.8355921506881714, 1.8355578184127808, 1.8359442949295044, 1.8355576992034912, 1.8355939388275146, 1.835585594177246, 1.8355858325958252, 1.8355827331542969, 1.8355867862701416, 1.835642695426941, 1.835587978363037, 1.8356049060821533, 1.8356202840805054, 1.8356513977050781, 1.8355928659439087, 1.835683822631836, 1.8356331586837769, 1.8363016843795776, 1.83612859249115, 1.8357646465301514, 1.8363107442855835, 1.835744857788086, 1.8358802795410156, 1.837928056716919, 1.8361610174179077, 1.836184024810791, 1.8371012210845947], \"loglift\": [30.0, 29.0, 28.0, 27.0, 26.0, 25.0, 24.0, 23.0, 22.0, 21.0, 20.0, 19.0, 18.0, 17.0, 16.0, 15.0, 14.0, 13.0, 12.0, 11.0, 10.0, 9.0, 8.0, 7.0, 6.0, 5.0, 4.0, 3.0, 2.0, 1.0, 2.202399969100952, 2.202199935913086, 2.2012999057769775, 2.1991000175476074, 2.1933000087738037, 2.1930999755859375, 2.192699909210205, 2.189199924468994, 2.1882998943328857, 2.1870999336242676, 2.1863999366760254, 2.184499979019165, 2.177799940109253, 2.1777000427246094, 2.172300100326538, 2.167799949645996, 2.1661999225616455, 2.1659998893737793, 2.1635000705718994, 2.1582999229431152, 2.154400110244751, 2.14520001411438, 2.1356000900268555, 2.123699903488159, 2.079699993133545, 2.068000078201294, 2.0339999198913574, 2.02239990234375, 1.9967000484466553, 1.6934000253677368, 2.4749999046325684, 2.47160005569458, 2.466200113296509, 2.46560001373291, 2.4138998985290527, 2.3756000995635986, 2.2334001064300537, -0.3343999981880188, -0.3345000147819519, -0.3346000015735626, -0.3346000015735626, -0.3346000015735626, -0.33469998836517334, -0.33469998836517334, -0.33480000495910645, -0.33480000495910645, -0.33480000495910645, -0.33480000495910645, -0.33480000495910645, -0.33480000495910645, -0.33480000495910645, -0.33489999175071716, -0.33489999175071716, -0.33489999175071716, -0.33489999175071716, -0.33489999175071716, -0.33489999175071716, -0.33489999175071716, -0.33489999175071716, -0.33500000834465027, -0.33500000834465027, -0.33500000834465027, -0.33500000834465027, -0.33500000834465027, -0.33500000834465027, -0.33500000834465027, -0.335099995136261, -0.33500000834465027, 2.5922000408172607, 2.591900110244751, 2.5906999111175537, 2.589099884033203, 2.5859999656677246, 2.5715999603271484, 2.5653998851776123, 2.5589001178741455, 2.5313000679016113, 2.5272998809814453, 2.5174999237060547, 2.471400022506714, 2.265899896621704, 1.440600037574768, -0.15119999647140503, -0.15119999647140503, -0.15129999816417694, -0.15129999816417694, -0.15129999816417694, -0.15139999985694885, -0.15139999985694885, -0.15139999985694885, -0.15139999985694885, -0.15139999985694885, -0.15150000154972076, -0.15150000154972076, -0.15150000154972076, -0.15150000154972076, -0.15150000154972076, -0.15150000154972076, -0.1517000049352646, -0.1518000066280365, -0.1517000049352646, -0.15189999341964722, 2.6017000675201416, 2.601099967956543, 2.5994999408721924, 2.5931999683380127, 2.5905001163482666, 2.5857999324798584, 2.5843000411987305, 2.5817999839782715, 2.5787999629974365, 2.5625998973846436, 2.561199903488159, 2.55649995803833, 2.5555999279022217, 2.550800085067749, 2.539299964904785, 2.5216000080108643, 2.520900011062622, 2.520900011062622, 2.5134999752044678, 2.5020999908447266, 2.480600118637085, 2.48009991645813, 2.1226000785827637, 2.0000998973846436, 1.3257999420166016, -0.34150001406669617, -0.3416000008583069, -0.3422999978065491, -0.3422999978065491, -0.3422999978065491, -0.3425000011920929, 2.6194000244140625, 2.6159000396728516, 2.615799903869629, 2.615799903869629, 2.6038999557495117, 2.5917999744415283, 2.5910000801086426, 2.588399887084961, 2.587599992752075, 2.5843000411987305, 2.5599000453948975, 2.5557000637054443, 2.547600030899048, 2.5443999767303467, 2.52839994430542, 2.5185999870300293, 2.4893999099731445, 2.4602999687194824, 1.3244999647140503, -0.20880000293254852, -0.20900000631809235, -0.20909999310970306, -0.20909999310970306, -0.20909999310970306, -0.20909999310970306, -0.20919999480247498, -0.20919999480247498, -0.20919999480247498, -0.20919999480247498, -0.20919999480247498, -0.2092999964952469, -0.20919999480247498, -0.20990000665187836, -0.2094999998807907, 2.7177999019622803, 2.7144999504089355, 2.7119998931884766, 2.7109999656677246, 2.7072999477386475, 2.703700065612793, 2.702500104904175, 2.6907999515533447, 2.6888999938964844, 2.6877999305725098, 2.6861000061035156, 2.6803998947143555, 2.671600103378296, 2.6679000854492188, 2.6656999588012695, 2.663800001144409, 2.643899917602539, 2.5857999324798584, 2.575200080871582, 2.4296000003814697, 2.411099910736084, 2.3378000259399414, 2.3259999752044678, 2.31469988822937, 1.756600022315979, 1.6495000123977661, -0.03819999843835831, -0.03840000182390213, -0.03840000182390213, -0.03840000182390213, -0.03840000182390213, -0.03849999979138374, -0.038600001484155655, -0.03909999877214432, 2.733599901199341, 2.7290000915527344, 2.727400064468384, 2.722899913787842, 2.722899913787842, 2.719099998474121, 2.7095000743865967, 2.692699909210205, 2.6747000217437744, 2.6684000492095947, -0.11840000003576279, -0.11840000003576279, -0.1185000017285347, -0.1185000017285347, -0.11860000342130661, -0.11860000342130661, -0.11860000342130661, -0.11860000342130661, -0.11860000342130661, -0.11860000342130661, -0.11860000342130661, -0.11860000342130661, -0.11860000342130661, -0.11860000342130661, -0.11869999766349792, -0.11869999766349792, -0.11869999766349792, -0.11869999766349792, -0.11869999766349792, -0.11869999766349792, -0.11869999766349792, -0.11869999766349792, -0.11869999766349792, -0.11869999766349792, -0.11879999935626984, -0.11879999935626984, -0.11890000104904175, -0.11879999935626984, -0.11869999766349792, -0.11900000274181366, 2.96560001373291, 2.963099956512451, 2.9607999324798584, 2.9577999114990234, 2.9558000564575195, 2.9530999660491943, 2.945199966430664, 2.9393999576568604, 2.934799909591675, 2.8726999759674072, 2.870699882507324, 2.8550000190734863, 2.8201000690460205, 1.5895999670028687, -0.020099999383091927, -0.02019999921321869, -0.02019999921321869, -0.02019999921321869, -0.020400000736117363, -0.020500000566244125, -0.020500000566244125, -0.020500000566244125, -0.020500000566244125, -0.020600000396370888, -0.020600000396370888, -0.020600000396370888, -0.020600000396370888, -0.020600000396370888, -0.02070000022649765, -0.02070000022649765, -0.02070000022649765, -0.02070000022649765, -0.020899999886751175, -0.02070000022649765, -0.020899999886751175, -0.0210999995470047, -0.020999999716877937, -0.0210999995470047, 3.0285000801086426, 3.025399923324585, 3.023200035095215, 3.022900104522705, 3.0129001140594482, 3.0107998847961426, 3.0088000297546387, 3.0081000328063965, 2.9856998920440674, 2.9834001064300537, 2.975399971008301, 2.954400062561035, 2.949700117111206, 2.9447999000549316, 2.8452999591827393, 2.8210999965667725, 2.776700019836426, 2.2725000381469727, 0.13529999554157257, 0.13519999384880066, 0.13510000705718994, 0.13510000705718994, 0.13500000536441803, 0.13500000536441803, 0.13500000536441803, 0.13490000367164612, 0.13490000367164612, 0.13490000367164612, 0.13490000367164612, 0.13490000367164612, 0.13490000367164612, 0.1348000019788742, 0.1348000019788742, 0.1348000019788742, 0.13449999690055847, 0.1348000019788742, 0.13449999690055847, 3.1888999938964844, 3.1877999305725098, 3.182800054550171, 3.150099992752075, 3.1303000450134277, 3.051100015640259, 2.774600028991699, 0.11789999902248383, 0.1177000030875206, 0.1177000030875206, 0.1177000030875206, 0.1177000030875206, 0.1177000030875206, 0.1177000030875206, 0.1177000030875206, 0.1177000030875206, 0.1177000030875206, 0.11760000139474869, 0.11760000139474869, 0.11760000139474869, 0.11760000139474869, 0.11760000139474869, 0.11760000139474869, 0.11760000139474869, 0.11760000139474869, 0.11760000139474869, 0.11760000139474869, 0.11760000139474869, 0.11760000139474869, 0.11760000139474869, 0.11760000139474869, 0.11760000139474869, 0.11749999970197678, 0.11749999970197678, 0.11760000139474869, 0.11749999970197678, 0.11749999970197678, 0.11760000139474869, 0.11729999631643295, 0.11749999970197678, 0.11739999800920486, 0.11749999970197678, 0.11680000275373459, 0.11699999868869781, 0.11739999800920486, 3.2023000717163086, 3.2000999450683594, 3.185499906539917, 3.1740000247955322, 3.172100067138672, 3.160599946975708, 3.1556999683380127, 3.1533000469207764, 3.140399932861328, 3.128000020980835, 3.113300085067749, 3.1131999492645264, 3.096100091934204, 3.0153000354766846, 2.7200000286102295, 2.5069000720977783, 2.1010000705718994, 0.23149999976158142, 0.2313999980688095, 0.2312999963760376, 0.2312999963760376, 0.23119999468326569, 0.23119999468326569, 0.23119999468326569, 0.23119999468326569, 0.23119999468326569, 0.23119999468326569, 0.23119999468326569, 0.23119999468326569, 0.23119999468326569, 0.23109999299049377, 0.23119999468326569, 0.23109999299049377, 0.23080000281333923, 0.23119999468326569, 0.23070000112056732, 0.23090000450611115, 0.23080000281333923, 3.224100112915039, 3.218100070953369, 3.2165000438690186, 3.215100049972534, 3.2081000804901123, 3.2039999961853027, 3.2019999027252197, 3.200900077819824, 3.1844000816345215, 3.162400007247925, 3.1572000980377197, 3.140199899673462, 3.1321001052856445, 3.130199909210205, 2.786799907684326, 2.552299976348877, 2.244499921798706, 0.16930000483989716, 0.1688999980688095, 0.1687999963760376, 0.1687999963760376, 0.16869999468326569, 0.16869999468326569, 0.16869999468326569, 0.16869999468326569, 0.16869999468326569, 0.16869999468326569, 0.16869999468326569, 0.16869999468326569, 0.16869999468326569, 0.16869999468326569, 0.16869999468326569, 0.16869999468326569, 0.16859999299049377, 0.16850000619888306, 0.16869999468326569, 0.16850000619888306, 0.16859999299049377, 0.1680999994277954, 0.16830000281333923, 0.16850000619888306, 0.16840000450611115, 3.2388999462127686, 3.238800048828125, 3.2227001190185547, 3.2000999450683594, 3.176100015640259, 3.1710000038146973, 3.1278998851776123, 3.114500045776367, 3.1033999919891357, 1.9038000106811523, 0.2134000062942505, 0.2134000062942505, 0.2134000062942505, 0.21330000460147858, 0.21330000460147858, 0.21330000460147858, 0.21330000460147858, 0.21330000460147858, 0.21320000290870667, 0.21320000290870667, 0.21320000290870667, 0.21320000290870667, 0.21320000290870667, 0.21320000290870667, 0.21320000290870667, 0.21320000290870667, 0.21320000290870667, 0.21320000290870667, 0.21320000290870667, 0.21320000290870667, 0.21310000121593475, 0.21310000121593475, 0.21310000121593475, 0.21289999783039093, 0.21299999952316284, 0.2125999927520752, 0.21299999952316284, 3.3001999855041504, 3.297100067138672, 3.280100107192993, 3.2683000564575195, 3.2629001140594482, 3.2534000873565674, 3.233299970626831, 3.21589994430542, 3.162600040435791, 3.1594998836517334, 2.6607000827789307, 0.18790000677108765, 0.18780000507831573, 0.18770000338554382, 0.18770000338554382, 0.18770000338554382, 0.18770000338554382, 0.18770000338554382, 0.1876000016927719, 0.1876000016927719, 0.1876000016927719, 0.1876000016927719, 0.1876000016927719, 0.1876000016927719, 0.1876000016927719, 0.1876000016927719, 0.1876000016927719, 0.1876000016927719, 0.1876000016927719, 0.1875, 0.1875, 0.1873999983072281, 0.1873999983072281, 0.1873999983072281, 0.1875, 0.1873999983072281, 0.1868000030517578, 3.316200017929077, 3.3101000785827637, 3.3055999279022217, 3.301800012588501, 3.299299955368042, 3.299299955368042, 3.2936999797821045, 3.292799949645996, 3.276700019836426, 3.2746999263763428, 3.2309999465942383, 3.1872000694274902, 3.1640000343322754, 3.046099901199341, 2.746299982070923, 0.19920000433921814, 0.19920000433921814, 0.19900000095367432, 0.19900000095367432, 0.1988999992609024, 0.1987999975681305, 0.1987999975681305, 0.1987999975681305, 0.1987999975681305, 0.1987999975681305, 0.19869999587535858, 0.19869999587535858, 0.19869999587535858, 0.19869999587535858, 0.19869999587535858, 0.19859999418258667, 0.19869999587535858, 0.19830000400543213, 0.19820000231266022, 0.19840000569820404, 3.4072999954223633, 3.4042000770568848, 3.3926000595092773, 3.3919999599456787, 3.3685998916625977, 3.3580000400543213, 3.3424999713897705, 3.3403000831604004, 3.31030011177063, 3.298099994659424, 3.2943999767303467, 3.274600028991699, 3.25819993019104, 3.2320001125335693, 3.2279999256134033, 3.113100051879883, 2.996500015258789, 2.8677000999450684, 2.5827999114990234, 0.33250001072883606, 0.33230000734329224, 0.33230000734329224, 0.33219999074935913, 0.33219999074935913, 0.33219999074935913, 0.33219999074935913, 0.3321000039577484, 0.3321000039577484, 0.3321000039577484, 0.3321000039577484, 0.3321000039577484, 0.3321000039577484, 0.3319999873638153, 0.3321000039577484, 0.3319999873638153, 0.33180001378059387, 0.33180001378059387, 3.42930006980896, 3.420300006866455, 3.404900074005127, 3.402100086212158, 3.391900062561035, 3.384999990463257, 0.40529999136924744, 0.40529999136924744, 0.4052000045776367, 0.4050999879837036, 0.4050999879837036, 0.4050999879837036, 0.4050999879837036, 0.4050999879837036, 0.4050999879837036, 0.4050999879837036, 0.4050999879837036, 0.4050999879837036, 0.4050999879837036, 0.4050999879837036, 0.4050999879837036, 0.4050000011920929, 0.4050000011920929, 0.4050000011920929, 0.4050000011920929, 0.4050000011920929, 0.4050000011920929, 0.4050000011920929, 0.4050000011920929, 0.4050000011920929, 0.4050000011920929, 0.4050000011920929, 0.40459999442100525, 0.4050000011920929, 0.4043999910354614, 0.4047999978065491, 0.4049000144004822, 0.40459999442100525, 0.4049000144004822, 0.4047999978065491, 0.4049000144004822, 0.4047999978065491, 0.4047999978065491, 0.4043999910354614, 0.4047999978065491, 3.642400026321411, 3.6403000354766846, 3.6338000297546387, 3.6257998943328857, 3.6036999225616455, 3.601300001144409, 3.5954999923706055, 3.5820999145507812, 3.5673000812530518, 3.50819993019104, 3.4856998920440674, 3.476300001144409, 0.6620000004768372, 0.6620000004768372, 0.661899983882904, 0.661899983882904, 0.661899983882904, 0.661899983882904, 0.6618000268936157, 0.6618000268936157, 0.6618000268936157, 0.6617000102996826, 0.6617000102996826, 0.6617000102996826, 0.6617000102996826, 0.6617000102996826, 0.6617000102996826, 0.6617000102996826, 0.6617000102996826, 0.6617000102996826, 0.6617000102996826, 0.6617000102996826, 0.6614999771118164, 0.6617000102996826, 0.661300003528595, 0.6615999937057495, 4.03380012512207, 4.010000228881836, 4.006199836730957, 3.925100088119507, 3.835599899291992, 2.460400104522705, 0.303600013256073, 0.303600013256073, 0.303600013256073, 0.303600013256073, 0.3034999966621399, 0.3034999966621399, 0.3034999966621399, 0.3034999966621399, 0.3034999966621399, 0.3034999966621399, 0.3034999966621399, 0.3034999966621399, 0.3034999966621399, 0.3034000098705292, 0.3034000098705292, 0.3034000098705292, 0.3034000098705292, 0.3034000098705292, 0.3034000098705292, 0.3034000098705292, 0.3034000098705292, 0.3034000098705292, 0.3034000098705292, 0.3034000098705292, 0.3034000098705292, 0.30300000309944153, 0.30329999327659607, 0.3027999997138977, 0.3034000098705292, 0.30329999327659607, 0.30309998989105225, 0.30320000648498535, 0.3027999997138977, 0.30300000309944153, 4.168499946594238, 4.126500129699707, 4.067999839782715, 4.042500019073486, 4.031300067901611, 3.8434998989105225, 3.3512001037597656, 0.7653999924659729, 0.7653999924659729, 0.7652999758720398, 0.7652999758720398, 0.7649999856948853, 0.7649999856948853, 0.7649999856948853, 0.7649999856948853, 0.7649999856948853, 0.7649999856948853, 0.7649999856948853, 0.7649999856948853, 0.7649999856948853, 0.7649000287055969, 0.7649000287055969, 0.7649000287055969, 0.7649000287055969, 0.7649000287055969, 0.7649000287055969, 0.7649000287055969, 0.7649000287055969, 0.7649000287055969, 0.7649000287055969, 0.7649000287055969, 0.7648000121116638, 0.7648000121116638, 0.7649000287055969, 0.7646999955177307, 0.7649000287055969, 0.7648000121116638, 0.7639999985694885, 0.7646999955177307, 0.7646999955177307, 0.76419997215271], \"logprob\": [30.0, 29.0, 28.0, 27.0, 26.0, 25.0, 24.0, 23.0, 22.0, 21.0, 20.0, 19.0, 18.0, 17.0, 16.0, 15.0, 14.0, 13.0, 12.0, 11.0, 10.0, 9.0, 8.0, 7.0, 6.0, 5.0, 4.0, 3.0, 2.0, 1.0, -1.9996000528335571, -2.0478999614715576, -2.2737998962402344, -2.6505000591278076, -3.2613000869750977, -3.2723000049591064, -3.3064000606536865, -3.5380001068115234, -3.5915000438690186, -3.661099910736084, -3.6940999031066895, -3.7887001037597656, -4.063899993896484, -4.06689977645874, -4.243000030517578, -4.371099948883057, -4.414899826049805, -4.417900085449219, -4.481599807739258, -4.599100112915039, -4.6793999671936035, -4.848199844360352, -4.998700141906738, -5.161900043487549, -5.611700057983398, -5.706099987030029, -5.943900108337402, -6.015399932861328, -6.1595001220703125, -7.216100215911865, -0.6927000284194946, -1.9917000532150269, -2.7607998847961426, -2.8178999423980713, -4.604400157928467, -5.102499961853027, -6.0559000968933105, -10.095600128173828, -10.09570026397705, -10.095800399780273, -10.095600128173828, -10.095600128173828, -10.094799995422363, -10.096099853515625, -10.095499992370605, -10.096099853515625, -10.096199989318848, -10.095800399780273, -10.095999717712402, -10.096099853515625, -10.095399856567383, -10.096099853515625, -10.096099853515625, -10.096199989318848, -10.09630012512207, -10.096400260925293, -10.096400260925293, -10.096400260925293, -10.095999717712402, -10.096099853515625, -10.095600128173828, -10.09589958190918, -10.095800399780273, -10.095800399780273, -10.096199989318848, -10.096099853515625, -10.096099853515625, -10.096099853515625, -1.7694000005722046, -1.8246999979019165, -2.0648000240325928, -2.3190999031066895, -2.6767001152038574, -3.545799970626831, -3.771899938583374, -3.9660000801086426, -4.532899856567383, -4.593699932098389, -4.731900215148926, -5.214900016784668, -6.293900012969971, -8.008999824523926, -9.912199974060059, -9.912400245666504, -9.911999702453613, -9.911399841308594, -9.912500381469727, -9.912599563598633, -9.912199974060059, -9.912599563598633, -9.912500381469727, -9.912500381469727, -9.912699699401855, -9.912699699401855, -9.912799835205078, -9.912799835205078, -9.912500381469727, -9.912699699401855, -9.912500381469727, -9.912400245666504, -9.912599563598633, -9.912500381469727, -1.8162000179290771, -1.9467999935150146, -2.2179999351501465, -2.8775999546051025, -3.065500020980835, -3.331700086593628, -3.3991000652313232, -3.507999897003174, -3.6282999515533447, -4.099999904632568, -4.1305999755859375, -4.232100009918213, -4.251399993896484, -4.34499979019165, -4.538400173187256, -4.782899856567383, -4.7906999588012695, -4.791299819946289, -4.877999782562256, -4.999800205230713, -5.198500156402588, -5.202099800109863, -6.7342000007629395, -7.026599884033203, -8.163800239562988, -10.10219955444336, -10.101699829101562, -10.103400230407715, -10.103400230407715, -10.102899551391602, -10.103400230407715, -1.523900032043457, -2.231800079345703, -2.241300106048584, -2.2513999938964844, -3.240600109100342, -3.7421998977661133, -3.7685999870300293, -3.84660005569458, -3.8726000785827637, -3.9621999263763428, -4.465400218963623, -4.5320000648498535, -4.650199890136719, -4.69379997253418, -4.887400150299072, -4.991099834442139, -5.252900123596191, -5.465099811553955, -8.178799629211426, -9.970000267028809, -9.97029972076416, -9.970100402832031, -9.96969985961914, -9.970399856567383, -9.970399856567383, -9.970199584960938, -9.969799995422363, -9.970399856567383, -9.970100402832031, -9.970399856567383, -9.970000267028809, -9.97029972076416, -9.970000267028809, -9.97029972076416, -1.9363000392913818, -2.3907999992370605, -2.644399881362915, -2.725800037384033, -2.9844000339508057, -3.186500072479248, -3.2472000122070312, -3.6993000507354736, -3.7565999031066895, -3.786600112915039, -3.8340001106262207, -3.9795000553131104, -4.169099807739258, -4.240499973297119, -4.281499862670898, -4.314899921417236, -4.611499786376953, -5.189700126647949, -5.269800186157227, -6.0289998054504395, -6.099699974060059, -6.349400043487549, -6.385900020599365, -6.4197998046875, -7.591700077056885, -7.759099960327148, -9.799200057983398, -9.799599647521973, -9.799599647521973, -9.799599647521973, -9.799400329589844, -9.799300193786621, -9.799300193786621, -9.799200057983398, -1.2788000106811523, -2.196199893951416, -2.3959999084472656, -2.7943999767303467, -2.798799991607666, -3.0434999465942383, -3.4886999130249023, -3.979599952697754, -4.333000183105469, -4.43209981918335, -9.87969970703125, -9.878499984741211, -9.879500389099121, -9.879899978637695, -9.879899978637695, -9.879400253295898, -9.879899978637695, -9.879899978637695, -9.879899978637695, -9.880000114440918, -9.879799842834473, -9.87969970703125, -9.880000114440918, -9.879799842834473, -9.879899978637695, -9.879899978637695, -9.87969970703125, -9.880000114440918, -9.880000114440918, -9.880000114440918, -9.879300117492676, -9.879400253295898, -9.87969970703125, -9.879799842834473, -9.879400253295898, -9.879799842834473, -9.879799842834473, -9.879899978637695, -9.879899978637695, -9.879899978637695, -1.8316999673843384, -2.151599884033203, -2.3803999423980713, -2.610300064086914, -2.7427000999450684, -2.898400068283081, -3.2460999488830566, -3.4428000450134277, -3.5761001110076904, -4.58459997177124, -4.604700088500977, -4.757199764251709, -5.034900188446045, -7.9344000816345215, -9.781299591064453, -9.781499862670898, -9.781599998474121, -9.781599998474121, -9.781100273132324, -9.781700134277344, -9.781599998474121, -9.781800270080566, -9.781700134277344, -9.781800270080566, -9.781900405883789, -9.781900405883789, -9.781999588012695, -9.781900405883789, -9.781999588012695, -9.782099723815918, -9.781999588012695, -9.781599998474121, -9.781000137329102, -9.781900405883789, -9.781800270080566, -9.781700134277344, -9.781800270080566, -9.781800270080566, -2.089900016784668, -2.3803999423980713, -2.552000045776367, -2.571500062942505, -3.0940001010894775, -3.1770999431610107, -3.2483999729156494, -3.273400068283081, -3.849299907684326, -3.8919999599456787, -4.034800052642822, -4.335700035095215, -4.3927001953125, -4.449699878692627, -5.229499816894531, -5.360400199890137, -5.570199966430664, -6.919300079345703, -9.625800132751465, -9.626199722290039, -9.626099586486816, -9.626199722290039, -9.626299858093262, -9.626299858093262, -9.62600040435791, -9.626299858093262, -9.626399993896484, -9.626399993896484, -9.626500129699707, -9.626399993896484, -9.626299858093262, -9.625300407409668, -9.625800132751465, -9.626199722290039, -9.626099586486816, -9.626199722290039, -9.626199722290039, -1.3561999797821045, -1.541100025177002, -2.1391000747680664, -3.5118000507354736, -3.8940000534057617, -4.741600036621094, -5.962900161743164, -9.643400192260742, -9.643199920654297, -9.643400192260742, -9.643699645996094, -9.643400192260742, -9.643600463867188, -9.643400192260742, -9.643699645996094, -9.643699645996094, -9.643699645996094, -9.643699645996094, -9.643799781799316, -9.643799781799316, -9.643799781799316, -9.643799781799316, -9.643699645996094, -9.643699645996094, -9.643600463867188, -9.643699645996094, -9.643600463867188, -9.643600463867188, -9.643799781799316, -9.643699645996094, -9.643699645996094, -9.643600463867188, -9.643500328063965, -9.643500328063965, -9.643600463867188, -9.643600463867188, -9.643600463867188, -9.643699645996094, -9.643199920654297, -9.643600463867188, -9.643500328063965, -9.643600463867188, -9.64330005645752, -9.643600463867188, -9.643699645996094, -1.6978000402450562, -1.9603999853134155, -2.892699956893921, -3.2904999256134033, -3.343100070953369, -3.615299940109253, -3.7130000591278076, -3.7565999031066895, -3.969099998474121, -4.140699863433838, -4.313600063323975, -4.3140997886657715, -4.485899925231934, -5.065100193023682, -6.144700050354004, -6.623199939727783, -7.31220006942749, -9.529600143432617, -9.529899597167969, -9.530099868774414, -9.529999732971191, -9.530099868774414, -9.530099868774414, -9.529999732971191, -9.529399871826172, -9.530200004577637, -9.530099868774414, -9.529899597167969, -9.530099868774414, -9.529999732971191, -9.529600143432617, -9.529899597167969, -9.529899597167969, -9.52929973602295, -9.529999732971191, -9.529800415039062, -9.529999732971191, -9.529999732971191, -2.075700044631958, -2.5109000205993652, -2.598299980163574, -2.6744000911712646, -2.977799892425537, -3.11899995803833, -3.1835999488830566, -3.2156999111175537, -3.6189000606536865, -3.9897000789642334, -4.061399936676025, -4.267099857330322, -4.353000164031982, -4.372399806976318, -6.004300117492676, -6.553299903869629, -7.100500106811523, -9.592000007629395, -9.592300415039062, -9.592300415039062, -9.592499732971191, -9.592599868774414, -9.592700004577637, -9.592700004577637, -9.592700004577637, -9.592700004577637, -9.592700004577637, -9.592700004577637, -9.592700004577637, -9.592700004577637, -9.592499732971191, -9.592599868774414, -9.592599868774414, -9.592499732971191, -9.59220027923584, -9.592700004577637, -9.592300415039062, -9.592399597167969, -9.592000007629395, -9.592300415039062, -9.592499732971191, -9.592499732971191, -1.4785000085830688, -1.4874000549316406, -2.7725000381469727, -3.4865000247955322, -3.925800085067749, -3.9995999336242676, -4.4807000160217285, -4.595300197601318, -4.682700157165527, -7.603799819946289, -9.54800033569336, -9.54800033569336, -9.54800033569336, -9.548100471496582, -9.547900199890137, -9.54800033569336, -9.54800033569336, -9.54800033569336, -9.548100471496582, -9.548100471496582, -9.548199653625488, -9.548199653625488, -9.548199653625488, -9.548199653625488, -9.548199653625488, -9.548199653625488, -9.548199653625488, -9.548199653625488, -9.548199653625488, -9.548199653625488, -9.54800033569336, -9.548100471496582, -9.548100471496582, -9.54800033569336, -9.548100471496582, -9.548100471496582, -9.548199653625488, -1.3909000158309937, -1.8113000392913818, -2.870300054550171, -3.247499942779541, -3.384399890899658, -3.586699962615967, -3.9195001125335693, -4.14169979095459, -4.632800102233887, -4.655600070953369, -6.4028000831604, -9.57349967956543, -9.573599815368652, -9.573599815368652, -9.573599815368652, -9.573699951171875, -9.573699951171875, -9.573699951171875, -9.573599815368652, -9.573399543762207, -9.573699951171875, -9.573699951171875, -9.573800086975098, -9.573800086975098, -9.573800086975098, -9.573800086975098, -9.573599815368652, -9.573800086975098, -9.573399543762207, -9.57390022277832, -9.573800086975098, -9.572699546813965, -9.5733003616333, -9.573399543762207, -9.573699951171875, -9.573800086975098, -9.573800086975098, -2.069499969482422, -2.4828999042510986, -2.702699899673462, -2.8589000701904297, -2.950700044631958, -2.953200101852417, -3.130199909210205, -3.1586999893188477, -3.539299964904785, -3.579400062561035, -4.196499824523926, -4.591300010681152, -4.75540018081665, -5.35699987411499, -6.241499900817871, -9.562199592590332, -9.562199592590332, -9.562299728393555, -9.561200141906738, -9.56190013885498, -9.5625, -9.5625, -9.5625, -9.5625, -9.562399864196777, -9.562299728393555, -9.5625, -9.5625, -9.562700271606445, -9.562600135803223, -9.5625, -9.562600135803223, -9.562399864196777, -9.562299728393555, -9.5625, -1.9485000371932983, -2.183500051498413, -2.7683000564575195, -2.791300058364868, -3.4261999130249023, -3.623500108718872, -3.8577001094818115, -3.8859000205993652, -4.225100040435791, -4.337100028991699, -4.36899995803833, -4.527200222015381, -4.6427001953125, -4.807400226593018, -4.83050012588501, -5.361599922180176, -5.746200084686279, -6.081999778747559, -6.657299995422363, -9.428600311279297, -9.428999900817871, -9.428799629211426, -9.428999900817871, -9.429100036621094, -9.429200172424316, -9.429200172424316, -9.429300308227539, -9.429300308227539, -9.429200172424316, -9.429200172424316, -9.428600311279297, -9.428999900817871, -9.428999900817871, -9.429100036621094, -9.429100036621094, -9.428999900817871, -9.429100036621094, -1.3716000318527222, -2.2309000492095947, -2.9210000038146973, -3.0083000659942627, -3.274899959564209, -3.4254000186920166, -9.355999946594238, -9.356100082397461, -9.356200218200684, -9.356200218200684, -9.355999946594238, -9.356100082397461, -9.356200218200684, -9.356300354003906, -9.356300354003906, -9.356300354003906, -9.356300354003906, -9.356300354003906, -9.356300354003906, -9.356399536132812, -9.356399536132812, -9.356300354003906, -9.356300354003906, -9.356399536132812, -9.356300354003906, -9.356300354003906, -9.356300354003906, -9.356399536132812, -9.356300354003906, -9.356399536132812, -9.356300354003906, -9.356300354003906, -9.355899810791016, -9.356300354003906, -9.35569953918457, -9.356200218200684, -9.356300354003906, -9.356100082397461, -9.356300354003906, -9.356200218200684, -9.356300354003906, -9.356300354003906, -9.356300354003906, -9.356300354003906, -9.356300354003906, -2.6428000926971436, -2.7125000953674316, -2.9007999897003174, -3.0950000286102295, -3.494499921798706, -3.5302000045776367, -3.61080002784729, -3.7790000438690186, -3.938199996948242, -4.415599822998047, -4.555799961090088, -4.609399795532227, -9.099300384521484, -9.098600387573242, -9.099499702453613, -9.099499702453613, -9.099499702453613, -9.099499702453613, -9.099499702453613, -9.099599838256836, -9.099599838256836, -9.099599838256836, -9.099599838256836, -9.099699974060059, -9.099699974060059, -9.099699974060059, -9.099699974060059, -9.099599838256836, -9.099599838256836, -9.099599838256836, -9.099499702453613, -9.099599838256836, -9.099499702453613, -9.099599838256836, -9.099499702453613, -9.099599838256836, -1.0296000242233276, -2.341200113296509, -2.4537999629974365, -3.6623001098632812, -4.274199962615967, -7.095099925994873, -9.457599639892578, -9.457799911499023, -9.457799911499023, -9.457799911499023, -9.457799911499023, -9.457799911499023, -9.457900047302246, -9.457900047302246, -9.457900047302246, -9.457900047302246, -9.457799911499023, -9.457900047302246, -9.4576997756958, -9.457900047302246, -9.458000183105469, -9.458000183105469, -9.458000183105469, -9.458000183105469, -9.458000183105469, -9.457500457763672, -9.458000183105469, -9.458000183105469, -9.458000183105469, -9.457900047302246, -9.457799911499023, -9.457500457763672, -9.457900047302246, -9.45740032196045, -9.457900047302246, -9.457900047302246, -9.457900047302246, -9.457900047302246, -9.457900047302246, -9.457900047302246, -1.6640000343322754, -2.8447000980377197, -3.545099973678589, -3.7511000633239746, -3.830699920654297, -4.717400074005127, -5.875699996948242, -8.996000289916992, -8.996000289916992, -8.996000289916992, -8.996000289916992, -8.996299743652344, -8.996399879455566, -8.996399879455566, -8.996399879455566, -8.996399879455566, -8.996199607849121, -8.996399879455566, -8.996399879455566, -8.996399879455566, -8.996500015258789, -8.996500015258789, -8.996500015258789, -8.996399879455566, -8.996500015258789, -8.996500015258789, -8.996500015258789, -8.996399879455566, -8.996500015258789, -8.996399879455566, -8.996500015258789, -8.996199607849121, -8.996299743652344, -8.996399879455566, -8.996299743652344, -8.996399879455566, -8.996399879455566, -8.996199607849121, -8.996399879455566, -8.996399879455566, -8.996399879455566]}, \"token.table\": {\"Topic\": [16, 16, 9, 1, 6, 9, 11, 9, 12, 12, 12, 9, 7, 6, 18, 16, 1, 8, 10, 8, 5, 16, 1, 4, 4, 12, 15, 6, 15, 5, 11, 9, 6, 11, 4, 15, 2, 13, 18, 1, 6, 1, 3, 5, 16, 3, 13, 9, 6, 12, 13, 20, 9, 3, 18, 20, 19, 10, 5, 14, 11, 11, 11, 18, 10, 12, 4, 11, 12, 11, 18, 14, 7, 6, 4, 11, 1, 20, 5, 13, 7, 4, 1, 3, 9, 6, 16, 16, 18, 4, 1, 6, 3, 12, 3, 9, 5, 14, 14, 20, 13, 12, 6, 1, 1, 6, 5, 16, 12, 18, 1, 3, 15, 6, 1, 6, 19, 16, 18, 12, 5, 9, 11, 11, 1, 4, 20, 8, 1, 1, 10, 1, 1, 9, 9, 16, 12, 7, 2, 14, 17, 12, 8, 1, 15, 12, 1, 17, 1, 15, 4, 4, 16, 6, 15, 11, 11, 15, 19, 3, 6, 7, 4, 9, 16, 4, 2, 19, 3, 17, 12, 2, 8, 10, 14, 5, 6, 13, 18, 16, 5, 15, 3, 4, 6, 15, 6, 16, 6, 9, 4, 1, 8, 11, 19, 16, 16, 14, 20, 5, 3, 12, 5, 6, 6, 8, 18, 15, 1, 2, 5, 11, 8, 6, 4, 9, 7, 4, 16, 5, 17, 5, 5, 14, 6, 15, 14, 1, 3, 10, 7, 5, 4, 1, 1, 6, 4, 16, 14, 9, 9, 7, 14, 1, 13, 2, 11, 12, 13, 10, 7, 4, 18, 8, 8, 1, 15, 16, 4, 8, 6, 1, 8, 4, 13, 15, 5, 3, 4, 4, 8, 15, 2, 6, 5, 4, 8, 17, 13, 9, 1, 17, 1, 4, 11, 3, 18, 20, 7], \"Freq\": [0.9737788438796997, 0.5901201963424683, 0.7944249510765076, 0.9835670590400696, 0.9471310973167419, 0.9856499433517456, 0.9910078048706055, 0.9734840393066406, 0.9623479843139648, 0.6193848252296448, 0.9425796866416931, 0.9726001024246216, 0.9517984986305237, 0.9761417508125305, 0.9424884915351868, 0.9909679889678955, 0.9951744079589844, 0.9869959354400635, 0.8368009924888611, 0.9652702212333679, 0.8686091899871826, 0.8476844429969788, 0.9454734921455383, 0.9404523968696594, 0.9368143677711487, 0.9762700200080872, 0.9758846759796143, 0.7629269957542419, 0.966900110244751, 0.8871056437492371, 0.967465341091156, 0.8068781495094299, 0.955673098564148, 0.9631583094596863, 0.41513150930404663, 0.8999558091163635, 0.7500107288360596, 0.8313105702400208, 0.9771707653999329, 0.7659334540367126, 0.9335120320320129, 0.6972052454948425, 0.9635011553764343, 0.867972195148468, 0.9535111784934998, 0.6552720069885254, 0.9149988293647766, 0.7855477929115295, 0.9957224726676941, 0.35923221707344055, 0.9941004514694214, 0.8153743743896484, 0.942381739616394, 0.9947738647460938, 0.9635703563690186, 0.9857151508331299, 0.9930148124694824, 0.9900978803634644, 0.9396814107894897, 0.8557361364364624, 0.8969818353652954, 0.3845840394496918, 0.897437572479248, 0.8779778480529785, 0.9576393365859985, 0.9606886506080627, 0.9409921765327454, 0.9220540523529053, 0.978931188583374, 0.9541484117507935, 0.8893272280693054, 0.9919039011001587, 0.9892857074737549, 0.9729371070861816, 0.9100465774536133, 0.9360225200653076, 0.98373943567276, 0.31920987367630005, 0.9171096086502075, 0.9922643899917603, 0.979084849357605, 0.8855534791946411, 0.9554117918014526, 0.9686446785926819, 0.9858686923980713, 0.9395810961723328, 0.7522575855255127, 0.7938815355300903, 0.9728960394859314, 0.916723370552063, 0.8936557173728943, 0.7799662351608276, 0.9762512445449829, 0.9616192579269409, 0.9967392086982727, 0.9781754016876221, 0.9971532821655273, 0.9547712802886963, 0.9354792833328247, 0.8375687599182129, 0.9563435912132263, 0.9106780290603638, 0.9915386438369751, 0.9622930884361267, 0.994232177734375, 0.9864597320556641, 0.993744969367981, 0.8443912863731384, 0.9685938358306885, 0.9496063590049744, 0.9741945862770081, 0.9545228481292725, 0.967703104019165, 0.9568130373954773, 0.9778802394866943, 0.3603951930999756, 0.8356220722198486, 0.906684935092926, 0.8158025741577148, 0.9873367547988892, 0.9175306558609009, 0.9665279388427734, 0.8114219307899475, 0.9903501272201538, 0.9451951384544373, 0.9962459802627563, 0.8899303078651428, 0.8906338810920715, 0.970665454864502, 0.9859001636505127, 0.9525172114372253, 0.9657900929450989, 0.9162400364875793, 0.9204052686691284, 0.9213619232177734, 0.9463675618171692, 0.9753997921943665, 0.9961761832237244, 0.9468618035316467, 0.9226531982421875, 0.9623607993125916, 0.9313859939575195, 0.9897932410240173, 0.9965739846229553, 0.9783242344856262, 0.5655039548873901, 0.9972270131111145, 0.9928327202796936, 0.9577593207359314, 0.9782723784446716, 0.9842739701271057, 0.9307634234428406, 0.483863890171051, 0.5852927565574646, 0.983534574508667, 0.9008908271789551, 0.9725533127784729, 0.9522064328193665, 0.8673936128616333, 0.987727165222168, 0.9756925702095032, 0.9911244511604309, 0.9582875967025757, 0.9878509640693665, 0.9253629446029663, 0.9336817264556885, 0.989945650100708, 0.971788227558136, 0.9959130883216858, 0.9737745523452759, 0.9852727055549622, 0.8886630535125732, 0.9930299520492554, 0.9934836626052856, 0.9679520726203918, 0.9534913301467896, 0.968998908996582, 0.8859080672264099, 0.9133167862892151, 0.8762221932411194, 0.42085373401641846, 0.9748296141624451, 0.9326382875442505, 0.9660419821739197, 0.3828396201133728, 0.897611677646637, 0.958941638469696, 0.8821527361869812, 0.9437041878700256, 0.9195594787597656, 0.9614003896713257, 0.9594258666038513, 0.8862941861152649, 0.8626954555511475, 0.9631206393241882, 0.32346826791763306, 0.9670714735984802, 0.9956560730934143, 0.6560578942298889, 0.963271975517273, 0.8891164660453796, 0.9220600128173828, 0.9923586249351501, 0.8816514611244202, 0.8973585367202759, 0.9662392735481262, 0.9311283230781555, 0.7003345489501953, 0.951153576374054, 0.9986972212791443, 0.9626379013061523, 0.9439584612846375, 0.9838486313819885, 0.7443153858184814, 0.9945988655090332, 0.991382896900177, 0.967616081237793, 0.9303717613220215, 0.909829318523407, 0.9618209004402161, 0.965046763420105, 0.9231382012367249, 0.972956657409668, 0.8390642404556274, 0.9889323711395264, 0.8634423613548279, 0.5421989560127258, 0.9539155960083008, 0.9278663992881775, 0.5870303511619568, 0.9368208050727844, 0.9914764761924744, 0.9848906993865967, 0.9901687502861023, 0.8239850401878357, 0.9425320029258728, 0.5226427316665649, 0.9813219904899597, 0.9716877937316895, 0.9634237289428711, 0.6164429783821106, 0.9849282503128052, 0.9390275478363037, 0.9794248342514038, 0.9103010296821594, 0.994463324546814, 0.5795304179191589, 0.8948720693588257, 0.4226973354816437, 0.9949602484703064, 0.994591236114502, 0.979715883731842, 0.9733797907829285, 0.9246711730957031, 0.9931109547615051, 0.8960738778114319, 0.9453084468841553, 0.8690454959869385, 0.661430835723877, 0.9711981415748596, 0.7403204441070557, 0.9871209859848022, 0.9826622605323792, 0.9699909687042236, 0.9833565354347229, 0.5027077794075012, 0.9589868783950806, 0.39883726835250854, 0.9878135919570923, 0.8827431797981262, 0.4296470582485199, 0.9868015646934509, 0.9881614446640015, 0.9880639314651489, 0.9758615493774414, 0.9938896894454956, 0.8890542387962341, 0.9400228261947632, 0.9392266869544983, 0.9391818642616272, 0.8748170137405396, 0.983044445514679, 0.96782386302948, 0.9477027654647827, 0.6666960120201111, 0.9939239025115967, 0.8672659993171692, 0.936768114566803, 0.97292560338974], \"Term\": [\"across\", \"action\", \"add\", \"afternoon\", \"afterward\", \"alive\", \"almost\", \"also\", \"always\", \"ammunition\", \"among\", \"another\", \"anything\", \"around\", \"arrive\", \"away\", \"back\", \"bad\", \"band\", \"bed\", \"belt\", \"bend\", \"beneath\", \"better\", \"beyond\", \"big\", \"black\", \"booby\", \"book\", \"brave\", \"bright\", \"brush\", \"burn\", \"call\", \"canvas\", \"car\", \"care\", \"carefully\", \"carry\", \"catch\", \"center\", \"certainly\", \"check\", \"chest\", \"chopper\", \"claymore\", \"cold\", \"college\", \"come\", \"common\", \"could\", \"cover\", \"cross\", \"dark\", \"dave_jensen\", \"day\", \"dead\", \"die\", \"do\", \"door\", \"drop\", \"dug\", \"dusk\", \"dustoff\", \"easy\", \"else\", \"especially\", \"every\", \"except\", \"explain\", \"extra\", \"eye\", \"face\", \"fall\", \"far\", \"fast\", \"father\", \"fatigue\", \"fear\", \"feel\", \"field\", \"fill\", \"finger\", \"fire\", \"first\", \"flat\", \"floor\", \"focus\", \"foot\", \"form\", \"foxhole\", \"fuck\", \"full\", \"gas\", \"get\", \"girl\", \"go\", \"good\", \"gray\", \"great\", \"green\", \"grenade\", \"guy\", \"hair\", \"hand\", \"happen\", \"head\", \"heat\", \"heavy\", \"henry_dobbin\", \"hold\", \"hole\", \"hope\", \"hot\", \"hour\", \"hump\", \"imagine\", \"instance\", \"jungle\", \"keep\", \"khe\", \"kill\", \"killer\", \"kiowa\", \"knee\", \"know\", \"land\", \"large\", \"last\", \"late\", \"least\", \"leave\", \"leg\", \"letter\", \"lieutenant_jimmy\", \"lift\", \"light\", \"like\", \"line\", \"lip\", \"live\", \"load\", \"long\", \"look\", \"love\", \"machine\", \"make\", \"man\", \"march\", \"matter\", \"mean\", \"medic\", \"military\", \"mine\", \"mitchell_sander\", \"mitchell_sanders\", \"morning\", \"mostly\", \"mountain\", \"move\", \"movie\", \"much\", \"must\", \"name\", \"near\", \"nearly\", \"never\", \"new\", \"night\", \"norman_bowker\", \"nothing\", \"often\", \"old\", \"one\", \"open\", \"outside\", \"paddy\", \"pain\", \"pair\", \"palm\", \"paper\", \"partly\", \"perimeter\", \"picture\", \"pistol\", \"plastic\", \"platoon\", \"pocket\", \"poor\", \"present\", \"pretend\", \"pull\", \"quickly\", \"radio\", \"rat_kiley\", \"ration\", \"reach\", \"remember\", \"respect\", \"rest\", \"return\", \"rifle\", \"right\", \"rock\", \"roll\", \"room\", \"round\", \"rucksack\", \"sad\", \"say\", \"scare\", \"school\", \"second\", \"security\", \"see\", \"seem\", \"several\", \"shadow\", \"sharp\", \"shoot\", \"short\", \"shot\", \"shoulder\", \"single\", \"sit\", \"situation\", \"slightly\", \"slow\", \"slowly\", \"smoke\", \"smooth\", \"something\", \"sometimes\", \"sound\", \"spend\", \"spin\", \"spread\", \"stand\", \"stare\", \"stay\", \"steel\", \"stop\", \"straight\", \"sure\", \"sweat\", \"take\", \"teach\", \"tear\", \"tent\", \"thing\", \"think\", \"though\", \"three\", \"tie\", \"time\", \"tip\", \"together\", \"tongue\", \"total\", \"touch\", \"trap\", \"turn\", \"two\", \"understand\", \"use\", \"various\", \"village\", \"virgin\", \"walk\", \"wall\", \"wallet\", \"want\", \"war\", \"watch\", \"water\", \"way\", \"weapon\", \"wear\", \"wet\", \"whatever\", \"whenever\", \"white\", \"without\", \"wonder\", \"worth\", \"would\", \"wrap\", \"write\", \"young\"]}, \"R\": 30, \"lambda.step\": 0.01, \"plot.opts\": {\"xlab\": \"PC1\", \"ylab\": \"PC2\"}, \"topic.order\": [16, 18, 13, 19, 7, 15, 1, 20, 17, 2, 8, 12, 10, 4, 11, 9, 14, 5, 3, 6]};\n",
       "\n",
       "function LDAvis_load_lib(url, callback){\n",
       "  var s = document.createElement('script');\n",
       "  s.src = url;\n",
       "  s.async = true;\n",
       "  s.onreadystatechange = s.onload = callback;\n",
       "  s.onerror = function(){console.warn(\"failed to load library \" + url);};\n",
       "  document.getElementsByTagName(\"head\")[0].appendChild(s);\n",
       "}\n",
       "\n",
       "if(typeof(LDAvis) !== \"undefined\"){\n",
       "   // already loaded: just create the visualization\n",
       "   !function(LDAvis){\n",
       "       new LDAvis(\"#\" + \"ldavis_el2282820864419958646936026616\", ldavis_el2282820864419958646936026616_data);\n",
       "   }(LDAvis);\n",
       "}else if(typeof define === \"function\" && define.amd){\n",
       "   // require.js is available: use it to load d3/LDAvis\n",
       "   require.config({paths: {d3: \"https://cdnjs.cloudflare.com/ajax/libs/d3/3.5.5/d3.min\"}});\n",
       "   require([\"d3\"], function(d3){\n",
       "      window.d3 = d3;\n",
       "      LDAvis_load_lib(\"https://cdn.rawgit.com/bmabey/pyLDAvis/files/ldavis.v1.0.0.js\", function(){\n",
       "        new LDAvis(\"#\" + \"ldavis_el2282820864419958646936026616\", ldavis_el2282820864419958646936026616_data);\n",
       "      });\n",
       "    });\n",
       "}else{\n",
       "    // require.js not available: dynamically load d3 & LDAvis\n",
       "    LDAvis_load_lib(\"https://cdnjs.cloudflare.com/ajax/libs/d3/3.5.5/d3.min.js\", function(){\n",
       "         LDAvis_load_lib(\"https://cdn.rawgit.com/bmabey/pyLDAvis/files/ldavis.v1.0.0.js\", function(){\n",
       "                 new LDAvis(\"#\" + \"ldavis_el2282820864419958646936026616\", ldavis_el2282820864419958646936026616_data);\n",
       "            })\n",
       "         });\n",
       "}\n",
       "</script>"
      ],
      "text/plain": [
       "<IPython.core.display.HTML object>"
      ]
     },
     "execution_count": 44,
     "metadata": {},
     "output_type": "execute_result"
    }
   ],
   "source": [
    "# Visualize the topics\n",
    "pyLDAvis.enable_notebook()\n",
    "vis = pyLDAvis.gensim.prepare(lda_model, corpus, id2word)\n",
    "pyLDAvis.display(vis)"
   ]
  },
  {
   "cell_type": "code",
   "execution_count": 49,
   "metadata": {},
   "outputs": [
    {
     "ename": "CalledProcessError",
     "evalue": "Command '~/mallet-2.0.8/bin/mallet import-file --preserve-case --keep-sequence --remove-stopwords --token-regex \"\\S+\" --input C:\\Users\\Cole\\AppData\\Local\\Temp\\ea7c8a_corpus.txt --output C:\\Users\\Cole\\AppData\\Local\\Temp\\ea7c8a_corpus.mallet' returned non-zero exit status 1.",
     "output_type": "error",
     "traceback": [
      "\u001b[1;31m---------------------------------------------------------------------------\u001b[0m",
      "\u001b[1;31mCalledProcessError\u001b[0m                        Traceback (most recent call last)",
      "\u001b[1;32m<ipython-input-49-13c779f84600>\u001b[0m in \u001b[0;36m<module>\u001b[1;34m\u001b[0m\n\u001b[0;32m      1\u001b[0m \u001b[1;31m# Download File: http://mallet.cs.umass.edu/dist/mallet-2.0.8.zip\u001b[0m\u001b[1;33m\u001b[0m\u001b[1;33m\u001b[0m\u001b[1;33m\u001b[0m\u001b[0m\n\u001b[0;32m      2\u001b[0m \u001b[0mmallet_path\u001b[0m \u001b[1;33m=\u001b[0m \u001b[1;34m'~/mallet-2.0.8/bin/mallet'\u001b[0m \u001b[1;31m# update this path\u001b[0m\u001b[1;33m\u001b[0m\u001b[1;33m\u001b[0m\u001b[0m\n\u001b[1;32m----> 3\u001b[1;33m \u001b[0mldamallet\u001b[0m \u001b[1;33m=\u001b[0m \u001b[0mgensim\u001b[0m\u001b[1;33m.\u001b[0m\u001b[0mmodels\u001b[0m\u001b[1;33m.\u001b[0m\u001b[0mwrappers\u001b[0m\u001b[1;33m.\u001b[0m\u001b[0mLdaMallet\u001b[0m\u001b[1;33m(\u001b[0m\u001b[0mmallet_path\u001b[0m\u001b[1;33m,\u001b[0m \u001b[0mcorpus\u001b[0m\u001b[1;33m=\u001b[0m\u001b[0mcorpus\u001b[0m\u001b[1;33m,\u001b[0m \u001b[0mnum_topics\u001b[0m\u001b[1;33m=\u001b[0m\u001b[1;36m20\u001b[0m\u001b[1;33m,\u001b[0m \u001b[0mid2word\u001b[0m\u001b[1;33m=\u001b[0m\u001b[0mid2word\u001b[0m\u001b[1;33m)\u001b[0m\u001b[1;33m\u001b[0m\u001b[1;33m\u001b[0m\u001b[0m\n\u001b[0m",
      "\u001b[1;32me:\\users\\cole\\anaconda3\\envs\\tttc_litanalysis\\lib\\site-packages\\gensim\\models\\wrappers\\ldamallet.py\u001b[0m in \u001b[0;36m__init__\u001b[1;34m(self, mallet_path, corpus, num_topics, alpha, id2word, workers, prefix, optimize_interval, iterations, topic_threshold, random_seed)\u001b[0m\n\u001b[0;32m    129\u001b[0m         \u001b[0mself\u001b[0m\u001b[1;33m.\u001b[0m\u001b[0mrandom_seed\u001b[0m \u001b[1;33m=\u001b[0m \u001b[0mrandom_seed\u001b[0m\u001b[1;33m\u001b[0m\u001b[1;33m\u001b[0m\u001b[0m\n\u001b[0;32m    130\u001b[0m         \u001b[1;32mif\u001b[0m \u001b[0mcorpus\u001b[0m \u001b[1;32mis\u001b[0m \u001b[1;32mnot\u001b[0m \u001b[1;32mNone\u001b[0m\u001b[1;33m:\u001b[0m\u001b[1;33m\u001b[0m\u001b[1;33m\u001b[0m\u001b[0m\n\u001b[1;32m--> 131\u001b[1;33m             \u001b[0mself\u001b[0m\u001b[1;33m.\u001b[0m\u001b[0mtrain\u001b[0m\u001b[1;33m(\u001b[0m\u001b[0mcorpus\u001b[0m\u001b[1;33m)\u001b[0m\u001b[1;33m\u001b[0m\u001b[1;33m\u001b[0m\u001b[0m\n\u001b[0m\u001b[0;32m    132\u001b[0m \u001b[1;33m\u001b[0m\u001b[0m\n\u001b[0;32m    133\u001b[0m     \u001b[1;32mdef\u001b[0m \u001b[0mfinferencer\u001b[0m\u001b[1;33m(\u001b[0m\u001b[0mself\u001b[0m\u001b[1;33m)\u001b[0m\u001b[1;33m:\u001b[0m\u001b[1;33m\u001b[0m\u001b[1;33m\u001b[0m\u001b[0m\n",
      "\u001b[1;32me:\\users\\cole\\anaconda3\\envs\\tttc_litanalysis\\lib\\site-packages\\gensim\\models\\wrappers\\ldamallet.py\u001b[0m in \u001b[0;36mtrain\u001b[1;34m(self, corpus)\u001b[0m\n\u001b[0;32m    270\u001b[0m \u001b[1;33m\u001b[0m\u001b[0m\n\u001b[0;32m    271\u001b[0m         \"\"\"\n\u001b[1;32m--> 272\u001b[1;33m         \u001b[0mself\u001b[0m\u001b[1;33m.\u001b[0m\u001b[0mconvert_input\u001b[0m\u001b[1;33m(\u001b[0m\u001b[0mcorpus\u001b[0m\u001b[1;33m,\u001b[0m \u001b[0minfer\u001b[0m\u001b[1;33m=\u001b[0m\u001b[1;32mFalse\u001b[0m\u001b[1;33m)\u001b[0m\u001b[1;33m\u001b[0m\u001b[1;33m\u001b[0m\u001b[0m\n\u001b[0m\u001b[0;32m    273\u001b[0m         \u001b[0mcmd\u001b[0m \u001b[1;33m=\u001b[0m \u001b[0mself\u001b[0m\u001b[1;33m.\u001b[0m\u001b[0mmallet_path\u001b[0m \u001b[1;33m+\u001b[0m \u001b[1;34m' train-topics --input %s --num-topics %s  --alpha %s --optimize-interval %s '\u001b[0m\u001b[0;31m\\\u001b[0m\u001b[1;33m\u001b[0m\u001b[1;33m\u001b[0m\u001b[0m\n\u001b[0;32m    274\u001b[0m             \u001b[1;34m'--num-threads %s --output-state %s --output-doc-topics %s --output-topic-keys %s '\u001b[0m\u001b[0;31m\\\u001b[0m\u001b[1;33m\u001b[0m\u001b[1;33m\u001b[0m\u001b[0m\n",
      "\u001b[1;32me:\\users\\cole\\anaconda3\\envs\\tttc_litanalysis\\lib\\site-packages\\gensim\\models\\wrappers\\ldamallet.py\u001b[0m in \u001b[0;36mconvert_input\u001b[1;34m(self, corpus, infer, serialize_corpus)\u001b[0m\n\u001b[0;32m    259\u001b[0m             \u001b[0mcmd\u001b[0m \u001b[1;33m=\u001b[0m \u001b[0mcmd\u001b[0m \u001b[1;33m%\u001b[0m \u001b[1;33m(\u001b[0m\u001b[0mself\u001b[0m\u001b[1;33m.\u001b[0m\u001b[0mfcorpustxt\u001b[0m\u001b[1;33m(\u001b[0m\u001b[1;33m)\u001b[0m\u001b[1;33m,\u001b[0m \u001b[0mself\u001b[0m\u001b[1;33m.\u001b[0m\u001b[0mfcorpusmallet\u001b[0m\u001b[1;33m(\u001b[0m\u001b[1;33m)\u001b[0m\u001b[1;33m)\u001b[0m\u001b[1;33m\u001b[0m\u001b[1;33m\u001b[0m\u001b[0m\n\u001b[0;32m    260\u001b[0m         \u001b[0mlogger\u001b[0m\u001b[1;33m.\u001b[0m\u001b[0minfo\u001b[0m\u001b[1;33m(\u001b[0m\u001b[1;34m\"converting temporary corpus to MALLET format with %s\"\u001b[0m\u001b[1;33m,\u001b[0m \u001b[0mcmd\u001b[0m\u001b[1;33m)\u001b[0m\u001b[1;33m\u001b[0m\u001b[1;33m\u001b[0m\u001b[0m\n\u001b[1;32m--> 261\u001b[1;33m         \u001b[0mcheck_output\u001b[0m\u001b[1;33m(\u001b[0m\u001b[0margs\u001b[0m\u001b[1;33m=\u001b[0m\u001b[0mcmd\u001b[0m\u001b[1;33m,\u001b[0m \u001b[0mshell\u001b[0m\u001b[1;33m=\u001b[0m\u001b[1;32mTrue\u001b[0m\u001b[1;33m)\u001b[0m\u001b[1;33m\u001b[0m\u001b[1;33m\u001b[0m\u001b[0m\n\u001b[0m\u001b[0;32m    262\u001b[0m \u001b[1;33m\u001b[0m\u001b[0m\n\u001b[0;32m    263\u001b[0m     \u001b[1;32mdef\u001b[0m \u001b[0mtrain\u001b[0m\u001b[1;33m(\u001b[0m\u001b[0mself\u001b[0m\u001b[1;33m,\u001b[0m \u001b[0mcorpus\u001b[0m\u001b[1;33m)\u001b[0m\u001b[1;33m:\u001b[0m\u001b[1;33m\u001b[0m\u001b[1;33m\u001b[0m\u001b[0m\n",
      "\u001b[1;32me:\\users\\cole\\anaconda3\\envs\\tttc_litanalysis\\lib\\site-packages\\gensim\\utils.py\u001b[0m in \u001b[0;36mcheck_output\u001b[1;34m(stdout, *popenargs, **kwargs)\u001b[0m\n\u001b[0;32m   1916\u001b[0m             \u001b[0merror\u001b[0m \u001b[1;33m=\u001b[0m \u001b[0msubprocess\u001b[0m\u001b[1;33m.\u001b[0m\u001b[0mCalledProcessError\u001b[0m\u001b[1;33m(\u001b[0m\u001b[0mretcode\u001b[0m\u001b[1;33m,\u001b[0m \u001b[0mcmd\u001b[0m\u001b[1;33m)\u001b[0m\u001b[1;33m\u001b[0m\u001b[1;33m\u001b[0m\u001b[0m\n\u001b[0;32m   1917\u001b[0m             \u001b[0merror\u001b[0m\u001b[1;33m.\u001b[0m\u001b[0moutput\u001b[0m \u001b[1;33m=\u001b[0m \u001b[0moutput\u001b[0m\u001b[1;33m\u001b[0m\u001b[1;33m\u001b[0m\u001b[0m\n\u001b[1;32m-> 1918\u001b[1;33m             \u001b[1;32mraise\u001b[0m \u001b[0merror\u001b[0m\u001b[1;33m\u001b[0m\u001b[1;33m\u001b[0m\u001b[0m\n\u001b[0m\u001b[0;32m   1919\u001b[0m         \u001b[1;32mreturn\u001b[0m \u001b[0moutput\u001b[0m\u001b[1;33m\u001b[0m\u001b[1;33m\u001b[0m\u001b[0m\n\u001b[0;32m   1920\u001b[0m     \u001b[1;32mexcept\u001b[0m \u001b[0mKeyboardInterrupt\u001b[0m\u001b[1;33m:\u001b[0m\u001b[1;33m\u001b[0m\u001b[1;33m\u001b[0m\u001b[0m\n",
      "\u001b[1;31mCalledProcessError\u001b[0m: Command '~/mallet-2.0.8/bin/mallet import-file --preserve-case --keep-sequence --remove-stopwords --token-regex \"\\S+\" --input C:\\Users\\Cole\\AppData\\Local\\Temp\\ea7c8a_corpus.txt --output C:\\Users\\Cole\\AppData\\Local\\Temp\\ea7c8a_corpus.mallet' returned non-zero exit status 1."
     ]
    }
   ],
   "source": [
    "# Download File: http://mallet.cs.umass.edu/dist/mallet-2.0.8.zip\n",
    "mallet_path = '~/mallet-2.0.8/bin/mallet' # update this path\n",
    "ldamallet = gensim.models.wrappers.LdaMallet(mallet_path, corpus=corpus, num_topics=20, id2word=id2word)"
   ]
  },
  {
   "cell_type": "code",
   "execution_count": 47,
   "metadata": {},
   "outputs": [
    {
     "ename": "NameError",
     "evalue": "name 'ldamallet' is not defined",
     "output_type": "error",
     "traceback": [
      "\u001b[1;31m---------------------------------------------------------------------------\u001b[0m",
      "\u001b[1;31mNameError\u001b[0m                                 Traceback (most recent call last)",
      "\u001b[1;32m<ipython-input-47-6ccb8ee2a2e7>\u001b[0m in \u001b[0;36m<module>\u001b[1;34m\u001b[0m\n\u001b[0;32m      1\u001b[0m \u001b[1;31m# Show Topics\u001b[0m\u001b[1;33m\u001b[0m\u001b[1;33m\u001b[0m\u001b[1;33m\u001b[0m\u001b[0m\n\u001b[1;32m----> 2\u001b[1;33m \u001b[0mpprint\u001b[0m\u001b[1;33m(\u001b[0m\u001b[0mldamallet\u001b[0m\u001b[1;33m.\u001b[0m\u001b[0mshow_topics\u001b[0m\u001b[1;33m(\u001b[0m\u001b[0mnum_topics\u001b[0m\u001b[1;33m=\u001b[0m\u001b[1;36m1000\u001b[0m\u001b[1;33m,\u001b[0m \u001b[0mformatted\u001b[0m\u001b[1;33m=\u001b[0m\u001b[1;32mFalse\u001b[0m\u001b[1;33m)\u001b[0m\u001b[1;33m)\u001b[0m\u001b[1;33m\u001b[0m\u001b[1;33m\u001b[0m\u001b[0m\n\u001b[0m\u001b[0;32m      3\u001b[0m \u001b[1;33m\u001b[0m\u001b[0m\n\u001b[0;32m      4\u001b[0m \u001b[1;31m# Compute Coherence Score\u001b[0m\u001b[1;33m\u001b[0m\u001b[1;33m\u001b[0m\u001b[1;33m\u001b[0m\u001b[0m\n\u001b[0;32m      5\u001b[0m \u001b[0mcoherence_model_ldamallet\u001b[0m \u001b[1;33m=\u001b[0m \u001b[0mCoherenceModel\u001b[0m\u001b[1;33m(\u001b[0m\u001b[0mmodel\u001b[0m\u001b[1;33m=\u001b[0m\u001b[0mldamallet\u001b[0m\u001b[1;33m,\u001b[0m \u001b[0mtexts\u001b[0m\u001b[1;33m=\u001b[0m\u001b[0mdata_lemmatized\u001b[0m\u001b[1;33m,\u001b[0m \u001b[0mdictionary\u001b[0m\u001b[1;33m=\u001b[0m\u001b[0mid2word\u001b[0m\u001b[1;33m,\u001b[0m \u001b[0mcoherence\u001b[0m\u001b[1;33m=\u001b[0m\u001b[1;34m'c_v'\u001b[0m\u001b[1;33m)\u001b[0m\u001b[1;33m\u001b[0m\u001b[1;33m\u001b[0m\u001b[0m\n",
      "\u001b[1;31mNameError\u001b[0m: name 'ldamallet' is not defined"
     ]
    }
   ],
   "source": [
    "\n",
    "# Show Topics\n",
    "pprint(ldamallet.show_topics(num_topics=1000, formatted=False))\n",
    "\n",
    "# Compute Coherence Score\n",
    "coherence_model_ldamallet = CoherenceModel(model=ldamallet, texts=data_lemmatized, dictionary=id2word, coherence='c_v')\n",
    "coherence_ldamallet = coherence_model_ldamallet.get_coherence()\n",
    "print('\\nCoherence Score: ', coherence_ldamallet)"
   ]
  },
  {
   "cell_type": "code",
   "execution_count": null,
   "metadata": {},
   "outputs": [],
   "source": [
    "def compute_coherence_values(dictionary, corpus, texts, limit, start=2, step=3):\n",
    "    \"\"\"\n",
    "    Compute c_v coherence for various number of topics\n",
    "\n",
    "    Parameters:\n",
    "    ----------\n",
    "    dictionary : Gensim dictionary\n",
    "    corpus : Gensim corpus\n",
    "    texts : List of input texts\n",
    "    limit : Max num of topics\n",
    "\n",
    "    Returns:\n",
    "    -------\n",
    "    model_list : List of LDA topic models\n",
    "    coherence_values : Coherence values corresponding to the LDA model with respective number of topics\n",
    "    \"\"\"\n",
    "    coherence_values = []\n",
    "    model_list = []\n",
    "    for num_topics in range(start, limit, step):\n",
    "        print('Calculating {}-topic model'.format(num_topics))\n",
    "        model = gensim.models.wrappers.LdaMallet(mallet_path, corpus=corpus, num_topics=num_topics, id2word=id2word)\n",
    "        model_list.append(model)\n",
    "        coherencemodel = CoherenceModel(model=model, texts=texts, dictionary=dictionary, coherence='c_v')\n",
    "        coherence_values.append(coherencemodel.get_coherence())\n",
    "\n",
    "    return model_list, coherence_values"
   ]
  },
  {
   "cell_type": "code",
   "execution_count": 46,
   "metadata": {},
   "outputs": [
    {
     "ename": "NameError",
     "evalue": "name 'compute_coherence_values' is not defined",
     "output_type": "error",
     "traceback": [
      "\u001b[1;31m---------------------------------------------------------------------------\u001b[0m",
      "\u001b[1;31mNameError\u001b[0m                                 Traceback (most recent call last)",
      "\u001b[1;32m<ipython-input-46-b60041aeaef9>\u001b[0m in \u001b[0;36m<module>\u001b[1;34m\u001b[0m\n\u001b[0;32m      1\u001b[0m \u001b[1;31m# Can take a long time to run.\u001b[0m\u001b[1;33m\u001b[0m\u001b[1;33m\u001b[0m\u001b[1;33m\u001b[0m\u001b[0m\n\u001b[0;32m      2\u001b[0m \u001b[0mlimit\u001b[0m\u001b[1;33m=\u001b[0m\u001b[1;36m35\u001b[0m\u001b[1;33m;\u001b[0m \u001b[0mstart\u001b[0m\u001b[1;33m=\u001b[0m\u001b[1;36m2\u001b[0m\u001b[1;33m;\u001b[0m \u001b[0mstep\u001b[0m\u001b[1;33m=\u001b[0m\u001b[1;36m1\u001b[0m\u001b[1;33m;\u001b[0m\u001b[1;33m\u001b[0m\u001b[1;33m\u001b[0m\u001b[0m\n\u001b[1;32m----> 3\u001b[1;33m model_list, coherence_values = compute_coherence_values(dictionary=id2word,\n\u001b[0m\u001b[0;32m      4\u001b[0m                                                         \u001b[0mcorpus\u001b[0m\u001b[1;33m=\u001b[0m\u001b[0mcorpus\u001b[0m\u001b[1;33m,\u001b[0m\u001b[1;33m\u001b[0m\u001b[1;33m\u001b[0m\u001b[0m\n\u001b[0;32m      5\u001b[0m                                                         \u001b[0mtexts\u001b[0m\u001b[1;33m=\u001b[0m\u001b[0mdata_lemmatized\u001b[0m\u001b[1;33m,\u001b[0m\u001b[1;33m\u001b[0m\u001b[1;33m\u001b[0m\u001b[0m\n",
      "\u001b[1;31mNameError\u001b[0m: name 'compute_coherence_values' is not defined"
     ]
    }
   ],
   "source": [
    "# Can take a long time to run.\n",
    "limit=35; start=2; step=1;\n",
    "model_list, coherence_values = compute_coherence_values(dictionary=id2word,\n",
    "                                                        corpus=corpus,\n",
    "                                                        texts=data_lemmatized,\n",
    "                                                        start=start,\n",
    "                                                        limit=limit,\n",
    "                                                        step=step)"
   ]
  },
  {
   "cell_type": "code",
   "execution_count": 48,
   "metadata": {},
   "outputs": [
    {
     "ename": "NameError",
     "evalue": "name 'coherence_values' is not defined",
     "output_type": "error",
     "traceback": [
      "\u001b[1;31m---------------------------------------------------------------------------\u001b[0m",
      "\u001b[1;31mNameError\u001b[0m                                 Traceback (most recent call last)",
      "\u001b[1;32m<ipython-input-48-31655d07e5ee>\u001b[0m in \u001b[0;36m<module>\u001b[1;34m\u001b[0m\n\u001b[0;32m      2\u001b[0m \u001b[0mx\u001b[0m \u001b[1;33m=\u001b[0m \u001b[0mrange\u001b[0m\u001b[1;33m(\u001b[0m\u001b[0mstart\u001b[0m\u001b[1;33m,\u001b[0m \u001b[0mlimit\u001b[0m\u001b[1;33m,\u001b[0m \u001b[0mstep\u001b[0m\u001b[1;33m)\u001b[0m\u001b[1;33m\u001b[0m\u001b[1;33m\u001b[0m\u001b[0m\n\u001b[0;32m      3\u001b[0m \u001b[0mplt\u001b[0m\u001b[1;33m.\u001b[0m\u001b[0mfigure\u001b[0m\u001b[1;33m(\u001b[0m\u001b[0mfigsize\u001b[0m\u001b[1;33m=\u001b[0m\u001b[1;33m(\u001b[0m\u001b[1;36m15\u001b[0m\u001b[1;33m,\u001b[0m \u001b[1;36m10\u001b[0m\u001b[1;33m)\u001b[0m\u001b[1;33m)\u001b[0m\u001b[1;33m\u001b[0m\u001b[1;33m\u001b[0m\u001b[0m\n\u001b[1;32m----> 4\u001b[1;33m \u001b[0mplt\u001b[0m\u001b[1;33m.\u001b[0m\u001b[0mplot\u001b[0m\u001b[1;33m(\u001b[0m\u001b[0mx\u001b[0m\u001b[1;33m,\u001b[0m \u001b[0mcoherence_values\u001b[0m\u001b[1;33m)\u001b[0m\u001b[1;33m\u001b[0m\u001b[1;33m\u001b[0m\u001b[0m\n\u001b[0m\u001b[0;32m      5\u001b[0m \u001b[0mplt\u001b[0m\u001b[1;33m.\u001b[0m\u001b[0mxlabel\u001b[0m\u001b[1;33m(\u001b[0m\u001b[1;34m\"Num Topics\"\u001b[0m\u001b[1;33m)\u001b[0m\u001b[1;33m\u001b[0m\u001b[1;33m\u001b[0m\u001b[0m\n\u001b[0;32m      6\u001b[0m \u001b[0mplt\u001b[0m\u001b[1;33m.\u001b[0m\u001b[0mylabel\u001b[0m\u001b[1;33m(\u001b[0m\u001b[1;34m\"Coherence score\"\u001b[0m\u001b[1;33m)\u001b[0m\u001b[1;33m\u001b[0m\u001b[1;33m\u001b[0m\u001b[0m\n",
      "\u001b[1;31mNameError\u001b[0m: name 'coherence_values' is not defined"
     ]
    },
    {
     "data": {
      "text/plain": [
       "<Figure size 1080x720 with 0 Axes>"
      ]
     },
     "metadata": {},
     "output_type": "display_data"
    }
   ],
   "source": [
    "# Show graph\n",
    "x = range(start, limit, step)\n",
    "plt.figure(figsize=(15, 10))\n",
    "plt.plot(x, coherence_values)\n",
    "plt.xlabel(\"Num Topics\")\n",
    "plt.ylabel(\"Coherence score\")\n",
    "# plt.legend((\"coherence_values\"), loc='best')\n",
    "plt.show()"
   ]
  },
  {
   "cell_type": "code",
   "execution_count": null,
   "metadata": {},
   "outputs": [],
   "source": [
    "# Select the model and print the topics\n",
    "index, value = max(enumerate(coherence_values), key=operator.itemgetter(1))\n",
    "index = 10\n",
    "optimal_model = model_list[index]\n",
    "model_topics = optimal_model.show_topics(num_topics=1000, formatted=False)\n",
    "pprint(optimal_model.print_topics(num_words=10))"
   ]
  }
 ],
 "metadata": {
  "kernelspec": {
   "display_name": "Python 3",
   "language": "python",
   "name": "python3"
  },
  "language_info": {
   "codemirror_mode": {
    "name": "ipython",
    "version": 3
   },
   "file_extension": ".py",
   "mimetype": "text/x-python",
   "name": "python",
   "nbconvert_exporter": "python",
   "pygments_lexer": "ipython3",
   "version": "3.6.7"
  }
 },
 "nbformat": 4,
 "nbformat_minor": 2
}
